{
 "cells": [
  {
   "cell_type": "code",
   "execution_count": 1,
   "metadata": {},
   "outputs": [
    {
     "name": "stdout",
     "output_type": "stream",
     "text": [
      "before 一共占用82.50MB\n"
     ]
    }
   ],
   "source": [
    "import sys\n",
    "sys.path.insert(0, \"../\")\n",
    "import dolphindb as ddb \n",
    "import numpy as np\n",
    "from factor_cal.feature import features as fe\n",
    "from factor_cal.config_loader import basic_config as cfg\n",
    "from factor_cal.utils import ddb_utils as du\n",
    "from factor_cal.utils import tools as tl\n",
    "\n",
    "# read config file\n",
    "config = cfg.BasicConfig('config/config.yml')\n",
    "# obtain the ddb session\n",
    "s = du.DDBSessionSingleton().session"
   ]
  },
  {
   "cell_type": "code",
   "execution_count": 8,
   "metadata": {},
   "outputs": [],
   "source": [
    "features = fe.Features(config)"
   ]
  },
  {
   "cell_type": "code",
   "execution_count": 9,
   "metadata": {},
   "outputs": [
    {
     "name": "stdout",
     "output_type": "stream",
     "text": [
      "before 一共占用98.70MB\n",
      "Loading [feature]open from DolphinDB server\n",
      "after 一共占用98.79MB\n"
     ]
    }
   ],
   "source": [
    "tl.show_info(\"before\")\n",
    "data = features.get_feature('open')\n",
    "tl.show_info(\"after\")"
   ]
  },
  {
   "cell_type": "code",
   "execution_count": 11,
   "metadata": {},
   "outputs": [
    {
     "name": "stdout",
     "output_type": "stream",
     "text": [
      "after 一共占用83.34MB\n"
     ]
    }
   ],
   "source": [
    "data2 = features.get_feature('en_buy_n')\n",
    "tl.show_info(\"after\")"
   ]
  },
  {
   "cell_type": "code",
   "execution_count": 8,
   "metadata": {},
   "outputs": [
    {
     "name": "stdout",
     "output_type": "stream",
     "text": [
      "after 一共占用83.28MB\n"
     ]
    }
   ],
   "source": [
    "data3 = features.get_feature('close')\n",
    "tl.show_info(\"after\")"
   ]
  },
  {
   "cell_type": "code",
   "execution_count": 10,
   "metadata": {},
   "outputs": [
    {
     "name": "stdout",
     "output_type": "stream",
     "text": [
      "after 一共占用83.34MB\n"
     ]
    }
   ],
   "source": [
    "data3 = features.get_feature('high')\n",
    "tl.show_info(\"after\")"
   ]
  },
  {
   "cell_type": "code",
   "execution_count": 8,
   "metadata": {},
   "outputs": [
    {
     "name": "stdout",
     "output_type": "stream",
     "text": [
      "after 一共占用84.48MB\n"
     ]
    }
   ],
   "source": [
    "tl.show_info(\"after\")"
   ]
  },
  {
   "cell_type": "code",
   "execution_count": 5,
   "metadata": {},
   "outputs": [
    {
     "data": {
      "text/html": [
       "<div>\n",
       "<style scoped>\n",
       "    .dataframe tbody tr th:only-of-type {\n",
       "        vertical-align: middle;\n",
       "    }\n",
       "\n",
       "    .dataframe tbody tr th {\n",
       "        vertical-align: top;\n",
       "    }\n",
       "\n",
       "    .dataframe thead th {\n",
       "        text-align: right;\n",
       "    }\n",
       "</style>\n",
       "<table border=\"1\" class=\"dataframe\">\n",
       "  <thead>\n",
       "    <tr style=\"text-align: right;\">\n",
       "      <th></th>\n",
       "      <th>name</th>\n",
       "      <th>type</th>\n",
       "      <th>form</th>\n",
       "      <th>rows</th>\n",
       "      <th>columns</th>\n",
       "      <th>bytes</th>\n",
       "      <th>shared</th>\n",
       "      <th>extra</th>\n",
       "      <th>owner</th>\n",
       "    </tr>\n",
       "  </thead>\n",
       "  <tbody>\n",
       "    <tr>\n",
       "      <th>0</th>\n",
       "      <td>t_trade_info</td>\n",
       "      <td>BASIC</td>\n",
       "      <td>TABLE</td>\n",
       "      <td>602</td>\n",
       "      <td>49</td>\n",
       "      <td>234256</td>\n",
       "      <td>False</td>\n",
       "      <td></td>\n",
       "      <td></td>\n",
       "    </tr>\n",
       "  </tbody>\n",
       "</table>\n",
       "</div>"
      ],
      "text/plain": [
       "           name   type   form  rows  columns   bytes  shared extra owner\n",
       "0  t_trade_info  BASIC  TABLE   602       49  234256   False            "
      ]
     },
     "execution_count": 5,
     "metadata": {},
     "output_type": "execute_result"
    }
   ],
   "source": [
    "s.run(\"objs(true)\")"
   ]
  },
  {
   "cell_type": "code",
   "execution_count": 13,
   "metadata": {},
   "outputs": [],
   "source": [
    "t = s.loadTable(tableName='t_trade_info')\n",
    "a = t.exec('open').pivotby('trade_time', 'security_code')"
   ]
  },
  {
   "cell_type": "code",
   "execution_count": 17,
   "metadata": {},
   "outputs": [],
   "source": [
    "b = a.toDF()"
   ]
  },
  {
   "cell_type": "code",
   "execution_count": null,
   "metadata": {},
   "outputs": [],
   "source": [
    "tmp_feat = config['features'][0]\n",
    "ddb_name = tmp_feat['ddb_name']\n",
    "tb_feat = tmp_feat['tb_features']\n",
    "\n",
    "tb_name = 'trade_info'\n",
    "time_col = tb_feat[tb_name]['time_col']\n",
    "sec_col = tb_feat[tb_name]['sec_col']"
   ]
  },
  {
   "cell_type": "code",
   "execution_count": null,
   "metadata": {},
   "outputs": [],
   "source": [
    "tables = fe.DDB_Table(ddb_name, tb_name, time_col, sec_col)"
   ]
  },
  {
   "cell_type": "code",
   "execution_count": null,
   "metadata": {},
   "outputs": [],
   "source": [
    "tables.get_table(config['start_time'], config['end_time'], ('000002', '000004'))"
   ]
  },
  {
   "cell_type": "code",
   "execution_count": null,
   "metadata": {},
   "outputs": [],
   "source": [
    "a = {\"a\": 2}\n",
    "c = a.get('b', None)\n",
    "c is None"
   ]
  },
  {
   "cell_type": "code",
   "execution_count": null,
   "metadata": {},
   "outputs": [],
   "source": [
    "s.run('select * from t_trade_info')"
   ]
  },
  {
   "cell_type": "code",
   "execution_count": null,
   "metadata": {},
   "outputs": [],
   "source": [
    "ddb_name, tb_feat"
   ]
  },
  {
   "cell_type": "code",
   "execution_count": null,
   "metadata": {},
   "outputs": [],
   "source": [
    "print(ddb_name)\n",
    "# create a dictionary to store features\n",
    "index = 0\n",
    "feat_dict = {}\n",
    "for tb in tb_feat.keys():\n",
    "    print(\"Table Name: \", tb)\n",
    "    ddb_tb = s.loadTable(dbPath=ddb_name, tableName=tb)\n",
    "    \n",
    "    features = tb_feat[tb]['feat_cols']\n",
    "    sec_col = tb_feat[tb]['sec_col']\n",
    "    time_col = tb_feat[tb]['time_col']\n",
    "    print(\"Features contain: \", list(features.keys()))\n",
    "\n",
    "    # read features from DolphinDB in a panel format\n",
    "    for feat_nkname, feat_colname in features.items():\n",
    "        index += 1\n",
    "        if (index > 1):\n",
    "            break\n",
    "        print(\"Feature Name: \", feat_nkname, flush=True)\n",
    "        feat_df = ddb_tb.select(feat_colname).pivotby(time_col, sec_col).toDF()\n",
    "        feat_dict[feat_nkname] = feat_df\n",
    "        # print(feat_df.head(1), flush=True)\n"
   ]
  },
  {
   "cell_type": "code",
   "execution_count": null,
   "metadata": {},
   "outputs": [],
   "source": [
    "print(ddb_name)\n",
    "# create a dictionary to store features\n",
    "index = 0\n",
    "feat_dict = {}\n",
    "for tb in tb_feat.keys():\n",
    "    print(\"Table Name: \", tb)\n",
    "    ddb_tb = s.loadTable(dbPath=ddb_name, tableName=tb)\n",
    "    \n",
    "    features = tb_feat[tb]['feat_cols']\n",
    "    sec_col = tb_feat[tb]['sec_col']\n",
    "    time_col = tb_feat[tb]['time_col']\n",
    "    print(\"Features contain: \", list(features.keys()))\n",
    "\n",
    "    # read features from DolphinDB in a panel format\n",
    "    for feat_nkname, feat_colname in features.items():\n",
    "        index += 1\n",
    "        if (index > 2):\n",
    "            break\n",
    "        print(\"Feature Name: \", feat_nkname, flush=True)\n",
    "        feat_df = ddb_tb.select(feat_colname).pivotby(time_col, sec_col).toDF()\n",
    "        feat_dict[feat_nkname] = feat_df\n",
    "        # print(feat_df.head(1), flush=True)\n"
   ]
  },
  {
   "cell_type": "code",
   "execution_count": null,
   "metadata": {},
   "outputs": [],
   "source": [
    "tb = 'trade_info'\n",
    "s.run(f'select close from loadTable(\"{ddb_name}\", \"{tb}\") pivot by {time_col}, {sec_col}')"
   ]
  },
  {
   "cell_type": "code",
   "execution_count": null,
   "metadata": {},
   "outputs": [],
   "source": [
    "# import sys\n",
    "# print(sys.getsizeof(feat_dict['open']) / 1024) # KB\n",
    "# print(sys.getsizeof(feat_dict['open']) / 1024 / 1024) # MB\n",
    "# print(sys.getsizeof(feat_dict['open']) / 1024 / 1024 / 1024) # GB"
   ]
  },
  {
   "cell_type": "code",
   "execution_count": null,
   "metadata": {},
   "outputs": [],
   "source": [
    "f'select close from loadTable({ddb_name}, {tb}) pivot by {time_col}, {sec_col}'"
   ]
  },
  {
   "cell_type": "code",
   "execution_count": null,
   "metadata": {},
   "outputs": [],
   "source": [
    "ddb_name, tb"
   ]
  },
  {
   "cell_type": "code",
   "execution_count": null,
   "metadata": {},
   "outputs": [],
   "source": [
    "a = s.loadTable(dbPath=ddb_name, tableName=tb)"
   ]
  },
  {
   "cell_type": "code",
   "execution_count": null,
   "metadata": {},
   "outputs": [],
   "source": [
    "b = a.select('close').where('trade_time < 2023-04-20T09:30:00.000')"
   ]
  },
  {
   "cell_type": "code",
   "execution_count": null,
   "metadata": {},
   "outputs": [],
   "source": [
    "trade = s.loadTableBySQL(tableName=\"trade_info\", dbPath=\"dfs://CROSS_SECTION_6sec\", sql=\"select * from trade_info where second(trade_time)<09:50:00\", tableAliasName='t1')\n"
   ]
  },
  {
   "cell_type": "code",
   "execution_count": null,
   "metadata": {},
   "outputs": [],
   "source": [
    "trade"
   ]
  },
  {
   "cell_type": "code",
   "execution_count": null,
   "metadata": {},
   "outputs": [],
   "source": [
    "import ddb_utils as du"
   ]
  },
  {
   "cell_type": "code",
   "execution_count": null,
   "metadata": {},
   "outputs": [],
   "source": [
    "s = du.DDBSessionSingleton().session"
   ]
  },
  {
   "cell_type": "code",
   "execution_count": null,
   "metadata": {},
   "outputs": [],
   "source": [
    "table = s.run('select * from loadTable(\"dfs://CROSS_SECTION_6sec\", \"trade_info\") where second(trade_time) between 09:30:06 and 09:30:18 limit 10')"
   ]
  },
  {
   "cell_type": "code",
   "execution_count": null,
   "metadata": {},
   "outputs": [],
   "source": [
    "a = s.loadTable(\"trade_info\", \"dfs://CROSS_SECTION_6sec\")\n",
    "b = a.select(\"*\").where(\"second(trade_time) between 09:30:06 and 09:30:18\").showSQL()"
   ]
  },
  {
   "cell_type": "code",
   "execution_count": null,
   "metadata": {},
   "outputs": [],
   "source": [
    "s.run('tmp_b = ' + b)"
   ]
  },
  {
   "cell_type": "code",
   "execution_count": null,
   "metadata": {},
   "outputs": [],
   "source": [
    "s.run('objs(true)')"
   ]
  },
  {
   "cell_type": "code",
   "execution_count": null,
   "metadata": {},
   "outputs": [],
   "source": []
  }
 ],
 "metadata": {
  "kernelspec": {
   "display_name": "ddbEnv",
   "language": "python",
   "name": "python3"
  },
  "language_info": {
   "codemirror_mode": {
    "name": "ipython",
    "version": 3
   },
   "file_extension": ".py",
   "mimetype": "text/x-python",
   "name": "python",
   "nbconvert_exporter": "python",
   "pygments_lexer": "ipython3",
   "version": "3.8.19"
  }
 },
 "nbformat": 4,
 "nbformat_minor": 2
}

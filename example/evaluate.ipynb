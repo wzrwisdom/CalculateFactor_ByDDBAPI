{
 "cells": [
  {
   "cell_type": "code",
   "execution_count": 2,
   "metadata": {},
   "outputs": [],
   "source": [
    "import warnings\n",
    "import alphalens\n",
    "import pandas as pd\n",
    "from scipy import stats\n",
    "from scipy.stats import ConstantInputWarning\n",
    "import sys\n",
    "sys.path.insert(0, \"../\")\n",
    "from alphalens import performance as perf\n",
    "import dolphindb as ddb \n",
    "\n",
    "from factor_cal.config_loader import basic_config as cfg\n",
    "from factor_cal.table.ddb_table import PriceTable, SecLevelFacTable\n",
    "from factor_cal.utils import ddb_utils as du\n",
    "\n",
    "\n",
    "# 忽略特定类别的警告\n",
    "warnings.filterwarnings(\"ignore\", category=ConstantInputWarning)\n",
    "\n",
    "# read config file\n",
    "config = cfg.BasicConfig('config/config.yml')\n",
    "factor_name = \"pv_corr\"\n",
    "# obtain the ddb session\n",
    "s = du.DDBSessionSingleton().session\n"
   ]
  },
  {
   "cell_type": "code",
   "execution_count": 2,
   "metadata": {},
   "outputs": [],
   "source": [
    "def get_clean_data(factor_name, date):\n",
    "    fac_tb = SecLevelFacTable(config['factor_dbPath'], config['factor_tbName'])\n",
    "    fac = fac_tb.load_factor(factor_name, date, config['start_time'], config['end_time'], sec_list=None)\n",
    "    \n",
    "    price_info = config['price_info']\n",
    "    pc_tb = PriceTable(price_info['price_dbPath'], price_info['price_tbName'], price_info['time_col'], price_info['sec_col'], price_info['price_cols'])\n",
    "    price = pc_tb.load_price(date, config['start_time'], config['end_time'], sec_list=None)\n",
    "    \n",
    "    fac_df = s.loadTable(tableName=fac).toDF()\n",
    "    if (fac_df.empty):\n",
    "        return None\n",
    "    price_df = s.loadTable(tableName=price).toDF()\n",
    "    \n",
    "    fac_df = fac_df.set_index(['tradetime', 'securityid'])\n",
    "    fac_df = fac_df['value']\n",
    "    fac_df = fac_df.sort_index(level=0)\n",
    "    \n",
    "    price_df = price_df.set_index(['tradetime', 'securityid'])\n",
    "    prices = price_df['close'].unstack()\n",
    "    \n",
    "    data=alphalens.utils.get_clean_factor_and_forward_returns(\n",
    "        fac_df, prices, quantiles=5,periods=(20,60,100))\n",
    "    return data"
   ]
  },
  {
   "cell_type": "code",
   "execution_count": 3,
   "metadata": {},
   "outputs": [
    {
     "name": "stderr",
     "output_type": "stream",
     "text": [
      "/home/wangzirui/miniconda3/envs/py38/lib/python3.8/site-packages/alphalens/utils.py:158: FutureWarning: The default dtype for empty Series will be 'object' instead of 'float64' in a future version. Specify a dtype explicitly to silence this warning.\n",
      "  return pd.Series(index=x.index)\n",
      "Exception ignored in: <bound method IPythonKernel._clean_thread_parent_frames of <ipykernel.ipkernel.IPythonKernel object at 0x7f6e34e8fcd0>>\n",
      "Traceback (most recent call last):\n",
      "  File \"/home/wangzirui/miniconda3/envs/py38/lib/python3.8/site-packages/ipykernel/ipkernel.py\", line 775, in _clean_thread_parent_frames\n",
      "    def _clean_thread_parent_frames(\n",
      "  File \"_pydevd_bundle/pydevd_cython.pyx\", line 1457, in _pydevd_bundle.pydevd_cython.SafeCallWrapper.__call__\n",
      "  File \"_pydevd_bundle/pydevd_cython.pyx\", line 1758, in _pydevd_bundle.pydevd_cython.ThreadTracer.__call__\n",
      "  File \"/home/wangzirui/miniconda3/envs/py38/lib/python3.8/site-packages/debugpy/_vendored/pydevd/_pydev_bundle/pydev_is_thread_alive.py\", line 9, in is_thread_alive\n",
      "    def is_thread_alive(t):\n",
      "KeyboardInterrupt: \n"
     ]
    },
    {
     "name": "stdout",
     "output_type": "stream",
     "text": [
      "Dropped 98.9% entries from factor data: 30.6% in forward returns computation and 68.3% in binning phase (set max_loss=0 to see potentially suppressed Exceptions).\n"
     ]
    },
    {
     "ename": "MaxLossExceededError",
     "evalue": "max_loss (35.0%) exceeded 98.9%, consider increasing it.",
     "output_type": "error",
     "traceback": [
      "\u001b[0;31m---------------------------------------------------------------------------\u001b[0m",
      "\u001b[0;31mMaxLossExceededError\u001b[0m                      Traceback (most recent call last)",
      "Cell \u001b[0;32mIn[3], line 1\u001b[0m\n\u001b[0;32m----> 1\u001b[0m data3 \u001b[38;5;241m=\u001b[39m \u001b[43mget_clean_data\u001b[49m\u001b[43m(\u001b[49m\u001b[43mfactor_name\u001b[49m\u001b[43m,\u001b[49m\u001b[43m \u001b[49m\u001b[38;5;124;43m'\u001b[39;49m\u001b[38;5;124;43m2023.09.22\u001b[39;49m\u001b[38;5;124;43m'\u001b[39;49m\u001b[43m)\u001b[49m\n",
      "Cell \u001b[0;32mIn[2], line 21\u001b[0m, in \u001b[0;36mget_clean_data\u001b[0;34m(factor_name, date)\u001b[0m\n\u001b[1;32m     18\u001b[0m price_df \u001b[38;5;241m=\u001b[39m price_df\u001b[38;5;241m.\u001b[39mset_index([\u001b[38;5;124m'\u001b[39m\u001b[38;5;124mtradetime\u001b[39m\u001b[38;5;124m'\u001b[39m, \u001b[38;5;124m'\u001b[39m\u001b[38;5;124msecurityid\u001b[39m\u001b[38;5;124m'\u001b[39m])\n\u001b[1;32m     19\u001b[0m prices \u001b[38;5;241m=\u001b[39m price_df[\u001b[38;5;124m'\u001b[39m\u001b[38;5;124mclose\u001b[39m\u001b[38;5;124m'\u001b[39m]\u001b[38;5;241m.\u001b[39munstack()\n\u001b[0;32m---> 21\u001b[0m data\u001b[38;5;241m=\u001b[39m\u001b[43malphalens\u001b[49m\u001b[38;5;241;43m.\u001b[39;49m\u001b[43mutils\u001b[49m\u001b[38;5;241;43m.\u001b[39;49m\u001b[43mget_clean_factor_and_forward_returns\u001b[49m\u001b[43m(\u001b[49m\n\u001b[1;32m     22\u001b[0m \u001b[43m    \u001b[49m\u001b[43mfac_df\u001b[49m\u001b[43m,\u001b[49m\u001b[43m \u001b[49m\u001b[43mprices\u001b[49m\u001b[43m,\u001b[49m\u001b[43m \u001b[49m\u001b[43mquantiles\u001b[49m\u001b[38;5;241;43m=\u001b[39;49m\u001b[38;5;241;43m5\u001b[39;49m\u001b[43m,\u001b[49m\u001b[43mperiods\u001b[49m\u001b[38;5;241;43m=\u001b[39;49m\u001b[43m(\u001b[49m\u001b[38;5;241;43m20\u001b[39;49m\u001b[43m,\u001b[49m\u001b[38;5;241;43m60\u001b[39;49m\u001b[43m,\u001b[49m\u001b[38;5;241;43m100\u001b[39;49m\u001b[43m)\u001b[49m\u001b[43m)\u001b[49m\n\u001b[1;32m     23\u001b[0m \u001b[38;5;28;01mreturn\u001b[39;00m data\n",
      "File \u001b[0;32m~/miniconda3/envs/py38/lib/python3.8/site-packages/alphalens/utils.py:795\u001b[0m, in \u001b[0;36mget_clean_factor_and_forward_returns\u001b[0;34m(factor, prices, groupby, binning_by_group, quantiles, bins, periods, filter_zscore, groupby_labels, max_loss, zero_aware, cumulative_returns)\u001b[0m\n\u001b[1;32m    646\u001b[0m \u001b[38;5;250m\u001b[39m\u001b[38;5;124;03m\"\"\"\u001b[39;00m\n\u001b[1;32m    647\u001b[0m \u001b[38;5;124;03mFormats the factor data, pricing data, and group mappings into a DataFrame\u001b[39;00m\n\u001b[1;32m    648\u001b[0m \u001b[38;5;124;03mthat contains aligned MultiIndex indices of timestamp and asset. The\u001b[39;00m\n\u001b[0;32m   (...)\u001b[0m\n\u001b[1;32m    788\u001b[0m \u001b[38;5;124;03m                  --------------------------------------------------------\u001b[39;00m\n\u001b[1;32m    789\u001b[0m \u001b[38;5;124;03m\"\"\"\u001b[39;00m\n\u001b[1;32m    791\u001b[0m forward_returns \u001b[38;5;241m=\u001b[39m compute_forward_returns(factor, prices, periods,\n\u001b[1;32m    792\u001b[0m                                           filter_zscore,\n\u001b[1;32m    793\u001b[0m                                           cumulative_returns)\n\u001b[0;32m--> 795\u001b[0m factor_data \u001b[38;5;241m=\u001b[39m \u001b[43mget_clean_factor\u001b[49m\u001b[43m(\u001b[49m\u001b[43mfactor\u001b[49m\u001b[43m,\u001b[49m\u001b[43m \u001b[49m\u001b[43mforward_returns\u001b[49m\u001b[43m,\u001b[49m\u001b[43m \u001b[49m\u001b[43mgroupby\u001b[49m\u001b[38;5;241;43m=\u001b[39;49m\u001b[43mgroupby\u001b[49m\u001b[43m,\u001b[49m\n\u001b[1;32m    796\u001b[0m \u001b[43m                               \u001b[49m\u001b[43mgroupby_labels\u001b[49m\u001b[38;5;241;43m=\u001b[39;49m\u001b[43mgroupby_labels\u001b[49m\u001b[43m,\u001b[49m\n\u001b[1;32m    797\u001b[0m \u001b[43m                               \u001b[49m\u001b[43mquantiles\u001b[49m\u001b[38;5;241;43m=\u001b[39;49m\u001b[43mquantiles\u001b[49m\u001b[43m,\u001b[49m\u001b[43m \u001b[49m\u001b[43mbins\u001b[49m\u001b[38;5;241;43m=\u001b[39;49m\u001b[43mbins\u001b[49m\u001b[43m,\u001b[49m\n\u001b[1;32m    798\u001b[0m \u001b[43m                               \u001b[49m\u001b[43mbinning_by_group\u001b[49m\u001b[38;5;241;43m=\u001b[39;49m\u001b[43mbinning_by_group\u001b[49m\u001b[43m,\u001b[49m\n\u001b[1;32m    799\u001b[0m \u001b[43m                               \u001b[49m\u001b[43mmax_loss\u001b[49m\u001b[38;5;241;43m=\u001b[39;49m\u001b[43mmax_loss\u001b[49m\u001b[43m,\u001b[49m\u001b[43m \u001b[49m\u001b[43mzero_aware\u001b[49m\u001b[38;5;241;43m=\u001b[39;49m\u001b[43mzero_aware\u001b[49m\u001b[43m)\u001b[49m\n\u001b[1;32m    801\u001b[0m \u001b[38;5;28;01mreturn\u001b[39;00m factor_data\n",
      "File \u001b[0;32m~/miniconda3/envs/py38/lib/python3.8/site-packages/alphalens/utils.py:627\u001b[0m, in \u001b[0;36mget_clean_factor\u001b[0;34m(factor, forward_returns, groupby, binning_by_group, quantiles, bins, groupby_labels, max_loss, zero_aware)\u001b[0m\n\u001b[1;32m    624\u001b[0m \u001b[38;5;28;01mif\u001b[39;00m tot_loss \u001b[38;5;241m>\u001b[39m max_loss:\n\u001b[1;32m    625\u001b[0m     message \u001b[38;5;241m=\u001b[39m (\u001b[38;5;124m\"\u001b[39m\u001b[38;5;124mmax_loss (\u001b[39m\u001b[38;5;132;01m%.1f\u001b[39;00m\u001b[38;5;132;01m%%\u001b[39;00m\u001b[38;5;124m) exceeded \u001b[39m\u001b[38;5;132;01m%.1f\u001b[39;00m\u001b[38;5;132;01m%%\u001b[39;00m\u001b[38;5;124m, consider increasing it.\u001b[39m\u001b[38;5;124m\"\u001b[39m\n\u001b[1;32m    626\u001b[0m                \u001b[38;5;241m%\u001b[39m (max_loss \u001b[38;5;241m*\u001b[39m \u001b[38;5;241m100\u001b[39m, tot_loss \u001b[38;5;241m*\u001b[39m \u001b[38;5;241m100\u001b[39m))\n\u001b[0;32m--> 627\u001b[0m     \u001b[38;5;28;01mraise\u001b[39;00m MaxLossExceededError(message)\n\u001b[1;32m    628\u001b[0m \u001b[38;5;28;01melse\u001b[39;00m:\n\u001b[1;32m    629\u001b[0m     \u001b[38;5;28mprint\u001b[39m(\u001b[38;5;124m\"\u001b[39m\u001b[38;5;124mmax_loss is \u001b[39m\u001b[38;5;132;01m%.1f\u001b[39;00m\u001b[38;5;132;01m%%\u001b[39;00m\u001b[38;5;124m, not exceeded: OK!\u001b[39m\u001b[38;5;124m\"\u001b[39m \u001b[38;5;241m%\u001b[39m (max_loss \u001b[38;5;241m*\u001b[39m \u001b[38;5;241m100\u001b[39m))\n",
      "\u001b[0;31mMaxLossExceededError\u001b[0m: max_loss (35.0%) exceeded 98.9%, consider increasing it."
     ]
    }
   ],
   "source": [
    "data3 = get_clean_data(factor_name, '2023.09.22')\n"
   ]
  },
  {
   "cell_type": "code",
   "execution_count": null,
   "metadata": {},
   "outputs": [],
   "source": [
    "data3"
   ]
  },
  {
   "cell_type": "code",
   "execution_count": 6,
   "metadata": {},
   "outputs": [
    {
     "name": "stderr",
     "output_type": "stream",
     "text": [
      "/home/wangzirui/miniconda3/envs/py38/lib/python3.8/site-packages/alphalens/utils.py:158: FutureWarning: The default dtype for empty Series will be 'object' instead of 'float64' in a future version. Specify a dtype explicitly to silence this warning.\n",
      "  return pd.Series(index=x.index)\n"
     ]
    },
    {
     "name": "stdout",
     "output_type": "stream",
     "text": [
      "Dropped 9.2% entries from factor data: 8.4% in forward returns computation and 0.9% in binning phase (set max_loss=0 to see potentially suppressed Exceptions).\n",
      "max_loss is 35.0%, not exceeded: OK!\n"
     ]
    }
   ],
   "source": [
    "date1 = '2023.09.22'\n",
    "date2 = '2024.02.07'\n",
    "data1 = get_clean_data(factor_name, date1)\n"
   ]
  },
  {
   "cell_type": "code",
   "execution_count": 7,
   "metadata": {},
   "outputs": [
    {
     "data": {
      "text/html": [
       "<div>\n",
       "<style scoped>\n",
       "    .dataframe tbody tr th:only-of-type {\n",
       "        vertical-align: middle;\n",
       "    }\n",
       "\n",
       "    .dataframe tbody tr th {\n",
       "        vertical-align: top;\n",
       "    }\n",
       "\n",
       "    .dataframe thead th {\n",
       "        text-align: right;\n",
       "    }\n",
       "</style>\n",
       "<table border=\"1\" class=\"dataframe\">\n",
       "  <thead>\n",
       "    <tr style=\"text-align: right;\">\n",
       "      <th></th>\n",
       "      <th></th>\n",
       "      <th>1m</th>\n",
       "      <th>3m</th>\n",
       "      <th>5m</th>\n",
       "      <th>factor</th>\n",
       "      <th>factor_quantile</th>\n",
       "    </tr>\n",
       "    <tr>\n",
       "      <th>date</th>\n",
       "      <th>asset</th>\n",
       "      <th></th>\n",
       "      <th></th>\n",
       "      <th></th>\n",
       "      <th></th>\n",
       "      <th></th>\n",
       "    </tr>\n",
       "  </thead>\n",
       "  <tbody>\n",
       "    <tr>\n",
       "      <th rowspan=\"5\" valign=\"top\">2023-09-22 09:45:00</th>\n",
       "      <th>000002.SZ</th>\n",
       "      <td>-0.000755</td>\n",
       "      <td>0.000000</td>\n",
       "      <td>0.000000</td>\n",
       "      <td>-0.003759</td>\n",
       "      <td>2.0</td>\n",
       "    </tr>\n",
       "    <tr>\n",
       "      <th>000004.SZ</th>\n",
       "      <td>0.005611</td>\n",
       "      <td>0.000000</td>\n",
       "      <td>-0.002494</td>\n",
       "      <td>-0.018960</td>\n",
       "      <td>1.0</td>\n",
       "    </tr>\n",
       "    <tr>\n",
       "      <th>000006.SZ</th>\n",
       "      <td>-0.002174</td>\n",
       "      <td>-0.002174</td>\n",
       "      <td>0.002174</td>\n",
       "      <td>0.004367</td>\n",
       "      <td>3.0</td>\n",
       "    </tr>\n",
       "    <tr>\n",
       "      <th>000010.SZ</th>\n",
       "      <td>-0.006006</td>\n",
       "      <td>-0.009009</td>\n",
       "      <td>-0.012012</td>\n",
       "      <td>0.000000</td>\n",
       "      <td>3.0</td>\n",
       "    </tr>\n",
       "    <tr>\n",
       "      <th>000026.SZ</th>\n",
       "      <td>0.000000</td>\n",
       "      <td>0.002636</td>\n",
       "      <td>0.003515</td>\n",
       "      <td>-0.006981</td>\n",
       "      <td>2.0</td>\n",
       "    </tr>\n",
       "    <tr>\n",
       "      <th>...</th>\n",
       "      <th>...</th>\n",
       "      <td>...</td>\n",
       "      <td>...</td>\n",
       "      <td>...</td>\n",
       "      <td>...</td>\n",
       "      <td>...</td>\n",
       "    </tr>\n",
       "    <tr>\n",
       "      <th rowspan=\"5\" valign=\"top\">2023-09-22 14:55:00</th>\n",
       "      <th>688799.SH</th>\n",
       "      <td>0.001240</td>\n",
       "      <td>0.001240</td>\n",
       "      <td>0.001240</td>\n",
       "      <td>-0.006652</td>\n",
       "      <td>1.0</td>\n",
       "    </tr>\n",
       "    <tr>\n",
       "      <th>688800.SH</th>\n",
       "      <td>0.000000</td>\n",
       "      <td>-0.000509</td>\n",
       "      <td>-0.000509</td>\n",
       "      <td>-0.001272</td>\n",
       "      <td>1.0</td>\n",
       "    </tr>\n",
       "    <tr>\n",
       "      <th>688819.SH</th>\n",
       "      <td>0.000286</td>\n",
       "      <td>0.000859</td>\n",
       "      <td>0.000859</td>\n",
       "      <td>0.003448</td>\n",
       "      <td>5.0</td>\n",
       "    </tr>\n",
       "    <tr>\n",
       "      <th>688981.SH</th>\n",
       "      <td>0.000000</td>\n",
       "      <td>0.000586</td>\n",
       "      <td>0.000586</td>\n",
       "      <td>-0.000975</td>\n",
       "      <td>1.0</td>\n",
       "    </tr>\n",
       "    <tr>\n",
       "      <th>689009.SH</th>\n",
       "      <td>0.000856</td>\n",
       "      <td>0.000571</td>\n",
       "      <td>0.000571</td>\n",
       "      <td>0.000571</td>\n",
       "      <td>3.0</td>\n",
       "    </tr>\n",
       "  </tbody>\n",
       "</table>\n",
       "<p>22051635 rows × 5 columns</p>\n",
       "</div>"
      ],
      "text/plain": [
       "                                     1m        3m        5m    factor  \\\n",
       "date                asset                                               \n",
       "2023-09-22 09:45:00 000002.SZ -0.000755  0.000000  0.000000 -0.003759   \n",
       "                    000004.SZ  0.005611  0.000000 -0.002494 -0.018960   \n",
       "                    000006.SZ -0.002174 -0.002174  0.002174  0.004367   \n",
       "                    000010.SZ -0.006006 -0.009009 -0.012012  0.000000   \n",
       "                    000026.SZ  0.000000  0.002636  0.003515 -0.006981   \n",
       "...                                 ...       ...       ...       ...   \n",
       "2023-09-22 14:55:00 688799.SH  0.001240  0.001240  0.001240 -0.006652   \n",
       "                    688800.SH  0.000000 -0.000509 -0.000509 -0.001272   \n",
       "                    688819.SH  0.000286  0.000859  0.000859  0.003448   \n",
       "                    688981.SH  0.000000  0.000586  0.000586 -0.000975   \n",
       "                    689009.SH  0.000856  0.000571  0.000571  0.000571   \n",
       "\n",
       "                               factor_quantile  \n",
       "date                asset                       \n",
       "2023-09-22 09:45:00 000002.SZ              2.0  \n",
       "                    000004.SZ              1.0  \n",
       "                    000006.SZ              3.0  \n",
       "                    000010.SZ              3.0  \n",
       "                    000026.SZ              2.0  \n",
       "...                                        ...  \n",
       "2023-09-22 14:55:00 688799.SH              1.0  \n",
       "                    688800.SH              1.0  \n",
       "                    688819.SH              5.0  \n",
       "                    688981.SH              1.0  \n",
       "                    689009.SH              3.0  \n",
       "\n",
       "[22051635 rows x 5 columns]"
      ]
     },
     "execution_count": 7,
     "metadata": {},
     "output_type": "execute_result"
    }
   ],
   "source": [
    "data1"
   ]
  },
  {
   "cell_type": "code",
   "execution_count": 8,
   "metadata": {},
   "outputs": [
    {
     "name": "stderr",
     "output_type": "stream",
     "text": [
      "/home/wangzirui/miniconda3/envs/py38/lib/python3.8/site-packages/alphalens/utils.py:158: FutureWarning: The default dtype for empty Series will be 'object' instead of 'float64' in a future version. Specify a dtype explicitly to silence this warning.\n",
      "  return pd.Series(index=x.index)\n"
     ]
    },
    {
     "name": "stdout",
     "output_type": "stream",
     "text": [
      "Dropped 8.4% entries from factor data: 8.4% in forward returns computation and 0.1% in binning phase (set max_loss=0 to see potentially suppressed Exceptions).\n",
      "max_loss is 35.0%, not exceeded: OK!\n"
     ]
    }
   ],
   "source": [
    "data2 = get_clean_data(factor_name, date2)"
   ]
  },
  {
   "cell_type": "code",
   "execution_count": 10,
   "metadata": {},
   "outputs": [],
   "source": [
    "data = pd.concat([data1, data2], axis=0)"
   ]
  },
  {
   "cell_type": "code",
   "execution_count": 13,
   "metadata": {},
   "outputs": [],
   "source": [
    "\n",
    "group_neutral = False\n",
    "ic_data = perf.factor_information_coefficient(data, group_neutral)\n",
    "\n",
    "\n",
    "ic_summary_table = pd.DataFrame()\n",
    "ic_summary_table[\"IC Mean\"] = ic_data.mean()\n",
    "ic_summary_table[\"IC Std.\"] = ic_data.std()\n",
    "ic_summary_table[\"Risk-Adjusted IC\"] = \\\n",
    "    ic_data.mean() / ic_data.std()\n",
    "t_stat, p_value = stats.ttest_1samp(ic_data, 0, nan_policy='omit')\n",
    "ic_summary_table[\"t-stat(IC)\"] = t_stat\n",
    "ic_summary_table[\"p-value(IC)\"] = p_value\n",
    "ic_summary_table[\"IC Skew\"] = stats.skew(ic_data, nan_policy='omit')\n",
    "ic_summary_table[\"IC Kurtosis\"] = stats.kurtosis(ic_data, nan_policy='omit')\n",
    "ic_summary_table['IC win rate'] = (ic_data > 0).sum() / ic_data.count()"
   ]
  },
  {
   "cell_type": "code",
   "execution_count": 14,
   "metadata": {},
   "outputs": [
    {
     "data": {
      "text/html": [
       "<div>\n",
       "<style scoped>\n",
       "    .dataframe tbody tr th:only-of-type {\n",
       "        vertical-align: middle;\n",
       "    }\n",
       "\n",
       "    .dataframe tbody tr th {\n",
       "        vertical-align: top;\n",
       "    }\n",
       "\n",
       "    .dataframe thead th {\n",
       "        text-align: right;\n",
       "    }\n",
       "</style>\n",
       "<table border=\"1\" class=\"dataframe\">\n",
       "  <thead>\n",
       "    <tr style=\"text-align: right;\">\n",
       "      <th></th>\n",
       "      <th>IC Mean</th>\n",
       "      <th>IC Std.</th>\n",
       "      <th>Risk-Adjusted IC</th>\n",
       "      <th>t-stat(IC)</th>\n",
       "      <th>p-value(IC)</th>\n",
       "      <th>IC Skew</th>\n",
       "      <th>IC Kurtosis</th>\n",
       "      <th>IC win rate</th>\n",
       "    </tr>\n",
       "  </thead>\n",
       "  <tbody>\n",
       "    <tr>\n",
       "      <th>1m</th>\n",
       "      <td>-0.094709</td>\n",
       "      <td>0.099195</td>\n",
       "      <td>-0.954777</td>\n",
       "      <td>-89.357090</td>\n",
       "      <td>0.0</td>\n",
       "      <td>0.434262</td>\n",
       "      <td>0.388191</td>\n",
       "      <td>0.168512</td>\n",
       "    </tr>\n",
       "    <tr>\n",
       "      <th>3m</th>\n",
       "      <td>-0.085754</td>\n",
       "      <td>0.127504</td>\n",
       "      <td>-0.672560</td>\n",
       "      <td>-62.944589</td>\n",
       "      <td>0.0</td>\n",
       "      <td>0.284041</td>\n",
       "      <td>0.030687</td>\n",
       "      <td>0.243407</td>\n",
       "    </tr>\n",
       "    <tr>\n",
       "      <th>5m</th>\n",
       "      <td>-0.071779</td>\n",
       "      <td>0.137860</td>\n",
       "      <td>-0.520664</td>\n",
       "      <td>-48.728696</td>\n",
       "      <td>0.0</td>\n",
       "      <td>0.167942</td>\n",
       "      <td>-0.102550</td>\n",
       "      <td>0.301861</td>\n",
       "    </tr>\n",
       "  </tbody>\n",
       "</table>\n",
       "</div>"
      ],
      "text/plain": [
       "     IC Mean   IC Std.  Risk-Adjusted IC  t-stat(IC)  p-value(IC)   IC Skew  \\\n",
       "1m -0.094709  0.099195         -0.954777  -89.357090          0.0  0.434262   \n",
       "3m -0.085754  0.127504         -0.672560  -62.944589          0.0  0.284041   \n",
       "5m -0.071779  0.137860         -0.520664  -48.728696          0.0  0.167942   \n",
       "\n",
       "    IC Kurtosis  IC win rate  \n",
       "1m     0.388191     0.168512  \n",
       "3m     0.030687     0.243407  \n",
       "5m    -0.102550     0.301861  "
      ]
     },
     "execution_count": 14,
     "metadata": {},
     "output_type": "execute_result"
    }
   ],
   "source": [
    "ic_summary_table"
   ]
  },
  {
   "cell_type": "code",
   "execution_count": 15,
   "metadata": {},
   "outputs": [],
   "source": [
    "save_path = '/home/wangzirui/workspace/factor_ic_summary'\n",
    "ic_summary_table.to_pickle(f'{save_path}/{factor_name}.pkl')"
   ]
  },
  {
   "cell_type": "code",
   "execution_count": 25,
   "metadata": {},
   "outputs": [],
   "source": [
    "result = pd.read_pickle(f'{save_path}/{factor_name}.pkl')"
   ]
  },
  {
   "cell_type": "code",
   "execution_count": 26,
   "metadata": {},
   "outputs": [
    {
     "data": {
      "text/html": [
       "<div>\n",
       "<style scoped>\n",
       "    .dataframe tbody tr th:only-of-type {\n",
       "        vertical-align: middle;\n",
       "    }\n",
       "\n",
       "    .dataframe tbody tr th {\n",
       "        vertical-align: top;\n",
       "    }\n",
       "\n",
       "    .dataframe thead th {\n",
       "        text-align: right;\n",
       "    }\n",
       "</style>\n",
       "<table border=\"1\" class=\"dataframe\">\n",
       "  <thead>\n",
       "    <tr style=\"text-align: right;\">\n",
       "      <th></th>\n",
       "      <th>IC Mean</th>\n",
       "      <th>IC Std.</th>\n",
       "      <th>Risk-Adjusted IC</th>\n",
       "      <th>t-stat(IC)</th>\n",
       "      <th>p-value(IC)</th>\n",
       "      <th>IC Skew</th>\n",
       "      <th>IC Kurtosis</th>\n",
       "      <th>IC win rate</th>\n",
       "    </tr>\n",
       "  </thead>\n",
       "  <tbody>\n",
       "    <tr>\n",
       "      <th>1m</th>\n",
       "      <td>-0.110157</td>\n",
       "      <td>0.095285</td>\n",
       "      <td>-1.156078</td>\n",
       "      <td>-254.026932</td>\n",
       "      <td>0.0</td>\n",
       "      <td>0.799751</td>\n",
       "      <td>2.929081</td>\n",
       "      <td>0.108322</td>\n",
       "    </tr>\n",
       "    <tr>\n",
       "      <th>3m</th>\n",
       "      <td>-0.116683</td>\n",
       "      <td>0.134783</td>\n",
       "      <td>-0.865706</td>\n",
       "      <td>-190.222987</td>\n",
       "      <td>0.0</td>\n",
       "      <td>0.694428</td>\n",
       "      <td>2.763240</td>\n",
       "      <td>0.153867</td>\n",
       "    </tr>\n",
       "    <tr>\n",
       "      <th>5m</th>\n",
       "      <td>-0.111498</td>\n",
       "      <td>0.148553</td>\n",
       "      <td>-0.750564</td>\n",
       "      <td>-164.922682</td>\n",
       "      <td>0.0</td>\n",
       "      <td>0.741072</td>\n",
       "      <td>2.938257</td>\n",
       "      <td>0.180668</td>\n",
       "    </tr>\n",
       "  </tbody>\n",
       "</table>\n",
       "</div>"
      ],
      "text/plain": [
       "     IC Mean   IC Std.  Risk-Adjusted IC  t-stat(IC)  p-value(IC)   IC Skew  \\\n",
       "1m -0.110157  0.095285         -1.156078 -254.026932          0.0  0.799751   \n",
       "3m -0.116683  0.134783         -0.865706 -190.222987          0.0  0.694428   \n",
       "5m -0.111498  0.148553         -0.750564 -164.922682          0.0  0.741072   \n",
       "\n",
       "    IC Kurtosis  IC win rate  \n",
       "1m     2.929081     0.108322  \n",
       "3m     2.763240     0.153867  \n",
       "5m     2.938257     0.180668  "
      ]
     },
     "execution_count": 26,
     "metadata": {},
     "output_type": "execute_result"
    }
   ],
   "source": [
    "result"
   ]
  },
  {
   "cell_type": "code",
   "execution_count": 2,
   "metadata": {},
   "outputs": [],
   "source": [
    "\n",
    "fac_tb = SecLevelFacTable(config['factor_dbPath'], config['factor_tbName'])\n",
    "fac = fac_tb.load_factor(factor_name, \"2023.09.22\", config['start_time'], config['end_time'], sec_list=None)"
   ]
  },
  {
   "cell_type": "code",
   "execution_count": 3,
   "metadata": {},
   "outputs": [],
   "source": [
    "price_info = config['price_info']\n",
    "pc_tb = PriceTable(price_info['price_dbPath'], price_info['price_tbName'], price_info['time_col'], price_info['sec_col'], price_info['price_cols'])\n",
    "price = pc_tb.load_price(\"2023.09.22\", config['start_time'], config['end_time'], sec_list=None)"
   ]
  },
  {
   "cell_type": "code",
   "execution_count": 4,
   "metadata": {},
   "outputs": [],
   "source": [
    "price_df = s.loadTable(tableName=price).toDF()\n",
    "fac_df = s.loadTable(tableName=fac).toDF()"
   ]
  },
  {
   "cell_type": "code",
   "execution_count": 5,
   "metadata": {},
   "outputs": [],
   "source": [
    "fac_df = fac_df.set_index(['tradetime', 'securityid'])\n",
    "fac_df = fac_df['value']\n",
    "fac_df = fac_df.sort_index(level=0)"
   ]
  },
  {
   "cell_type": "code",
   "execution_count": 6,
   "metadata": {},
   "outputs": [],
   "source": [
    "price_df = price_df.set_index(['tradetime', 'securityid'])\n",
    "prices = price_df['close'].unstack()"
   ]
  },
  {
   "cell_type": "code",
   "execution_count": null,
   "metadata": {},
   "outputs": [],
   "source": []
  },
  {
   "cell_type": "code",
   "execution_count": 12,
   "metadata": {},
   "outputs": [],
   "source": [
    "start_time = pd.to_datetime('9:45').time()\n",
    "end_time = pd.to_datetime('14:30').time()\n",
    "\n",
    "prices = prices.between_time(start_time, end_time)"
   ]
  },
  {
   "cell_type": "code",
   "execution_count": 26,
   "metadata": {},
   "outputs": [
    {
     "data": {
      "text/html": [
       "<div>\n",
       "<style scoped>\n",
       "    .dataframe tbody tr th:only-of-type {\n",
       "        vertical-align: middle;\n",
       "    }\n",
       "\n",
       "    .dataframe tbody tr th {\n",
       "        vertical-align: top;\n",
       "    }\n",
       "\n",
       "    .dataframe thead th {\n",
       "        text-align: right;\n",
       "    }\n",
       "</style>\n",
       "<table border=\"1\" class=\"dataframe\">\n",
       "  <thead>\n",
       "    <tr style=\"text-align: right;\">\n",
       "      <th></th>\n",
       "      <th></th>\n",
       "      <th>value</th>\n",
       "    </tr>\n",
       "    <tr>\n",
       "      <th>tradetime</th>\n",
       "      <th>securityid</th>\n",
       "      <th></th>\n",
       "    </tr>\n",
       "  </thead>\n",
       "  <tbody>\n",
       "    <tr>\n",
       "      <th rowspan=\"5\" valign=\"top\">2023-09-22 09:45:00</th>\n",
       "      <th>000001.SZ</th>\n",
       "      <td>NaN</td>\n",
       "    </tr>\n",
       "    <tr>\n",
       "      <th>000002.SZ</th>\n",
       "      <td>0.278530</td>\n",
       "    </tr>\n",
       "    <tr>\n",
       "      <th>000004.SZ</th>\n",
       "      <td>0.284619</td>\n",
       "    </tr>\n",
       "    <tr>\n",
       "      <th>000005.SZ</th>\n",
       "      <td>-0.152224</td>\n",
       "    </tr>\n",
       "    <tr>\n",
       "      <th>000006.SZ</th>\n",
       "      <td>NaN</td>\n",
       "    </tr>\n",
       "    <tr>\n",
       "      <th>...</th>\n",
       "      <th>...</th>\n",
       "      <td>...</td>\n",
       "    </tr>\n",
       "    <tr>\n",
       "      <th rowspan=\"5\" valign=\"top\">2023-09-22 13:30:00</th>\n",
       "      <th>688799.SH</th>\n",
       "      <td>0.243225</td>\n",
       "    </tr>\n",
       "    <tr>\n",
       "      <th>688800.SH</th>\n",
       "      <td>NaN</td>\n",
       "    </tr>\n",
       "    <tr>\n",
       "      <th>688819.SH</th>\n",
       "      <td>-0.666667</td>\n",
       "    </tr>\n",
       "    <tr>\n",
       "      <th>688981.SH</th>\n",
       "      <td>0.065909</td>\n",
       "    </tr>\n",
       "    <tr>\n",
       "      <th>689009.SH</th>\n",
       "      <td>0.395312</td>\n",
       "    </tr>\n",
       "  </tbody>\n",
       "</table>\n",
       "<p>13669418 rows × 1 columns</p>\n",
       "</div>"
      ],
      "text/plain": [
       "                                   value\n",
       "tradetime           securityid          \n",
       "2023-09-22 09:45:00 000001.SZ        NaN\n",
       "                    000002.SZ   0.278530\n",
       "                    000004.SZ   0.284619\n",
       "                    000005.SZ  -0.152224\n",
       "                    000006.SZ        NaN\n",
       "...                                  ...\n",
       "2023-09-22 13:30:00 688799.SH   0.243225\n",
       "                    688800.SH        NaN\n",
       "                    688819.SH  -0.666667\n",
       "                    688981.SH   0.065909\n",
       "                    689009.SH   0.395312\n",
       "\n",
       "[13669418 rows x 1 columns]"
      ]
     },
     "execution_count": 26,
     "metadata": {},
     "output_type": "execute_result"
    }
   ],
   "source": [
    "start_time = pd.to_datetime('9:45').time()\n",
    "end_time = pd.to_datetime('13:30').time()\n",
    "\n",
    "test_df = fac_df.reset_index().set_index('tradetime').between_time(start_time, end_time)\n",
    "test_df.reset_index(inplace=True)\n",
    "test_df.set_index(['tradetime','securityid'], inplace=True)\n",
    "# selected_data = fac_df.between_time(start_time, end_time)"
   ]
  },
  {
   "cell_type": "code",
   "execution_count": 14,
   "metadata": {},
   "outputs": [
    {
     "ename": "TypeError",
     "evalue": "Index must be DatetimeIndex",
     "output_type": "error",
     "traceback": [
      "\u001b[0;31m---------------------------------------------------------------------------\u001b[0m",
      "\u001b[0;31mTypeError\u001b[0m                                 Traceback (most recent call last)",
      "\u001b[0;32m/tmp/ipykernel_14152/4288309092.py\u001b[0m in \u001b[0;36m?\u001b[0;34m()\u001b[0m\n\u001b[0;32m----> 1\u001b[0;31m \u001b[0mfac_df\u001b[0m\u001b[0;34m.\u001b[0m\u001b[0mbetween_time\u001b[0m\u001b[0;34m(\u001b[0m\u001b[0mstart_time\u001b[0m\u001b[0;34m,\u001b[0m \u001b[0mend_time\u001b[0m\u001b[0;34m)\u001b[0m\u001b[0;34m\u001b[0m\u001b[0;34m\u001b[0m\u001b[0m\n\u001b[0m",
      "\u001b[0;32m~/miniconda3/envs/py38/lib/python3.8/site-packages/pandas/core/generic.py\u001b[0m in \u001b[0;36m?\u001b[0;34m(self, start_time, end_time, include_start, include_end, inclusive, axis)\u001b[0m\n\u001b[1;32m   7846\u001b[0m         \u001b[0maxis\u001b[0m \u001b[0;34m=\u001b[0m \u001b[0mself\u001b[0m\u001b[0;34m.\u001b[0m\u001b[0m_get_axis_number\u001b[0m\u001b[0;34m(\u001b[0m\u001b[0maxis\u001b[0m\u001b[0;34m)\u001b[0m\u001b[0;34m\u001b[0m\u001b[0;34m\u001b[0m\u001b[0m\n\u001b[1;32m   7847\u001b[0m \u001b[0;34m\u001b[0m\u001b[0m\n\u001b[1;32m   7848\u001b[0m         \u001b[0mindex\u001b[0m \u001b[0;34m=\u001b[0m \u001b[0mself\u001b[0m\u001b[0;34m.\u001b[0m\u001b[0m_get_axis\u001b[0m\u001b[0;34m(\u001b[0m\u001b[0maxis\u001b[0m\u001b[0;34m)\u001b[0m\u001b[0;34m\u001b[0m\u001b[0;34m\u001b[0m\u001b[0m\n\u001b[1;32m   7849\u001b[0m         \u001b[0;32mif\u001b[0m \u001b[0;32mnot\u001b[0m \u001b[0misinstance\u001b[0m\u001b[0;34m(\u001b[0m\u001b[0mindex\u001b[0m\u001b[0;34m,\u001b[0m \u001b[0mDatetimeIndex\u001b[0m\u001b[0;34m)\u001b[0m\u001b[0;34m:\u001b[0m\u001b[0;34m\u001b[0m\u001b[0;34m\u001b[0m\u001b[0m\n\u001b[0;32m-> 7850\u001b[0;31m             \u001b[0;32mraise\u001b[0m \u001b[0mTypeError\u001b[0m\u001b[0;34m(\u001b[0m\u001b[0;34m\"Index must be DatetimeIndex\"\u001b[0m\u001b[0;34m)\u001b[0m\u001b[0;34m\u001b[0m\u001b[0;34m\u001b[0m\u001b[0m\n\u001b[0m\u001b[1;32m   7851\u001b[0m \u001b[0;34m\u001b[0m\u001b[0m\n\u001b[1;32m   7852\u001b[0m         old_include_arg_used = (include_start != lib.no_default) or (\n\u001b[1;32m   7853\u001b[0m             \u001b[0minclude_end\u001b[0m \u001b[0;34m!=\u001b[0m \u001b[0mlib\u001b[0m\u001b[0;34m.\u001b[0m\u001b[0mno_default\u001b[0m\u001b[0;34m\u001b[0m\u001b[0;34m\u001b[0m\u001b[0m\n",
      "\u001b[0;31mTypeError\u001b[0m: Index must be DatetimeIndex"
     ]
    }
   ],
   "source": [
    "fac_df.index.get_label.between_time(start_time, end_time)"
   ]
  },
  {
   "cell_type": "code",
   "execution_count": 42,
   "metadata": {},
   "outputs": [
    {
     "data": {
      "text/plain": [
       "(7240881, 17052437)"
      ]
     },
     "execution_count": 42,
     "metadata": {},
     "output_type": "execute_result"
    }
   ],
   "source": [
    "fac_df.isna().sum(), (~fac_df.isna()).sum()"
   ]
  },
  {
   "cell_type": "code",
   "execution_count": 38,
   "metadata": {},
   "outputs": [
    {
     "data": {
      "text/plain": [
       "securityid\n",
       "000001.SZ         NaN\n",
       "000002.SZ    0.266224\n",
       "000004.SZ    0.268894\n",
       "000005.SZ   -0.109348\n",
       "000006.SZ         NaN\n",
       "               ...   \n",
       "688799.SH   -0.279244\n",
       "688800.SH   -0.377793\n",
       "688819.SH    0.605374\n",
       "688981.SH   -0.592932\n",
       "689009.SH         NaN\n",
       "Name: value, Length: 5059, dtype: float64"
      ]
     },
     "execution_count": 38,
     "metadata": {},
     "output_type": "execute_result"
    }
   ],
   "source": [
    "fac_df.loc[pd.to_datetime('2023-09-22 09:45:03')]"
   ]
  },
  {
   "cell_type": "code",
   "execution_count": 30,
   "metadata": {},
   "outputs": [
    {
     "name": "stderr",
     "output_type": "stream",
     "text": [
      "/home/wangzirui/miniconda3/envs/py38/lib/python3.8/site-packages/alphalens/utils.py:158: FutureWarning: The default dtype for empty Series will be 'object' instead of 'float64' in a future version. Specify a dtype explicitly to silence this warning.\n",
      "  return pd.Series(index=x.index)\n"
     ]
    },
    {
     "name": "stdout",
     "output_type": "stream",
     "text": [
      "Dropped 9.2% entries from factor data: 8.4% in forward returns computation and 0.9% in binning phase (set max_loss=0 to see potentially suppressed Exceptions).\n",
      "max_loss is 35.0%, not exceeded: OK!\n"
     ]
    }
   ],
   "source": [
    "import alphalens\n",
    "\n",
    "data=alphalens.utils.get_clean_factor_and_forward_returns(\n",
    "    fac_df, prices, quantiles=5,periods=(20,60,100))\n",
    "\n",
    "# alphalens.utils.get_clean_factor_and_forward_returns(fac_df, \n",
    "#     prices, \n",
    "#     quantiles=None,\n",
    "#     bins=1,\n",
    "#     periods=(1, 2, 3, 4, 5, 6, 10),\n",
    "#     filter_zscore=None)\n"
   ]
  },
  {
   "cell_type": "code",
   "execution_count": 40,
   "metadata": {},
   "outputs": [
    {
     "data": {
      "text/html": [
       "<div>\n",
       "<style scoped>\n",
       "    .dataframe tbody tr th:only-of-type {\n",
       "        vertical-align: middle;\n",
       "    }\n",
       "\n",
       "    .dataframe tbody tr th {\n",
       "        vertical-align: top;\n",
       "    }\n",
       "\n",
       "    .dataframe thead th {\n",
       "        text-align: right;\n",
       "    }\n",
       "</style>\n",
       "<table border=\"1\" class=\"dataframe\">\n",
       "  <thead>\n",
       "    <tr style=\"text-align: right;\">\n",
       "      <th>securityid</th>\n",
       "      <th>000001.SZ</th>\n",
       "      <th>000002.SZ</th>\n",
       "      <th>000004.SZ</th>\n",
       "      <th>000005.SZ</th>\n",
       "      <th>000006.SZ</th>\n",
       "      <th>000007.SZ</th>\n",
       "      <th>000008.SZ</th>\n",
       "      <th>000009.SZ</th>\n",
       "      <th>000010.SZ</th>\n",
       "      <th>000011.SZ</th>\n",
       "      <th>...</th>\n",
       "      <th>688787.SH</th>\n",
       "      <th>688788.SH</th>\n",
       "      <th>688789.SH</th>\n",
       "      <th>688793.SH</th>\n",
       "      <th>688798.SH</th>\n",
       "      <th>688799.SH</th>\n",
       "      <th>688800.SH</th>\n",
       "      <th>688819.SH</th>\n",
       "      <th>688981.SH</th>\n",
       "      <th>689009.SH</th>\n",
       "    </tr>\n",
       "    <tr>\n",
       "      <th>tradetime</th>\n",
       "      <th></th>\n",
       "      <th></th>\n",
       "      <th></th>\n",
       "      <th></th>\n",
       "      <th></th>\n",
       "      <th></th>\n",
       "      <th></th>\n",
       "      <th></th>\n",
       "      <th></th>\n",
       "      <th></th>\n",
       "      <th></th>\n",
       "      <th></th>\n",
       "      <th></th>\n",
       "      <th></th>\n",
       "      <th></th>\n",
       "      <th></th>\n",
       "      <th></th>\n",
       "      <th></th>\n",
       "      <th></th>\n",
       "      <th></th>\n",
       "      <th></th>\n",
       "    </tr>\n",
       "  </thead>\n",
       "  <tbody>\n",
       "    <tr>\n",
       "      <th>2023-09-22 11:30:00</th>\n",
       "      <td>11.14</td>\n",
       "      <td>13.29</td>\n",
       "      <td>16.260000</td>\n",
       "      <td>1.47</td>\n",
       "      <td>4.62</td>\n",
       "      <td>4.51</td>\n",
       "      <td>2.42</td>\n",
       "      <td>10.23</td>\n",
       "      <td>3.29</td>\n",
       "      <td>9.81</td>\n",
       "      <td>...</td>\n",
       "      <td>71.940002</td>\n",
       "      <td>37.369999</td>\n",
       "      <td>88.510002</td>\n",
       "      <td>35.720001</td>\n",
       "      <td>68.669998</td>\n",
       "      <td>40.009998</td>\n",
       "      <td>39.049999</td>\n",
       "      <td>34.419998</td>\n",
       "      <td>50.470001</td>\n",
       "      <td>34.799999</td>\n",
       "    </tr>\n",
       "    <tr>\n",
       "      <th>2023-09-22 13:00:00</th>\n",
       "      <td>11.14</td>\n",
       "      <td>13.30</td>\n",
       "      <td>16.260000</td>\n",
       "      <td>1.47</td>\n",
       "      <td>4.62</td>\n",
       "      <td>4.51</td>\n",
       "      <td>2.42</td>\n",
       "      <td>10.23</td>\n",
       "      <td>3.29</td>\n",
       "      <td>9.81</td>\n",
       "      <td>...</td>\n",
       "      <td>71.940002</td>\n",
       "      <td>37.369999</td>\n",
       "      <td>88.510002</td>\n",
       "      <td>35.720001</td>\n",
       "      <td>68.669998</td>\n",
       "      <td>40.009998</td>\n",
       "      <td>39.049999</td>\n",
       "      <td>34.419998</td>\n",
       "      <td>50.490002</td>\n",
       "      <td>34.799999</td>\n",
       "    </tr>\n",
       "    <tr>\n",
       "      <th>2023-09-22 13:01:00</th>\n",
       "      <td>11.13</td>\n",
       "      <td>13.28</td>\n",
       "      <td>16.290001</td>\n",
       "      <td>1.46</td>\n",
       "      <td>4.62</td>\n",
       "      <td>4.51</td>\n",
       "      <td>2.42</td>\n",
       "      <td>10.21</td>\n",
       "      <td>3.29</td>\n",
       "      <td>9.80</td>\n",
       "      <td>...</td>\n",
       "      <td>71.610001</td>\n",
       "      <td>37.389999</td>\n",
       "      <td>88.690002</td>\n",
       "      <td>35.730000</td>\n",
       "      <td>68.610001</td>\n",
       "      <td>39.930000</td>\n",
       "      <td>38.880001</td>\n",
       "      <td>34.400002</td>\n",
       "      <td>50.480000</td>\n",
       "      <td>34.849998</td>\n",
       "    </tr>\n",
       "  </tbody>\n",
       "</table>\n",
       "<p>3 rows × 5059 columns</p>\n",
       "</div>"
      ],
      "text/plain": [
       "securityid           000001.SZ  000002.SZ  000004.SZ  000005.SZ  000006.SZ  \\\n",
       "tradetime                                                                    \n",
       "2023-09-22 11:30:00      11.14      13.29  16.260000       1.47       4.62   \n",
       "2023-09-22 13:00:00      11.14      13.30  16.260000       1.47       4.62   \n",
       "2023-09-22 13:01:00      11.13      13.28  16.290001       1.46       4.62   \n",
       "\n",
       "securityid           000007.SZ  000008.SZ  000009.SZ  000010.SZ  000011.SZ  \\\n",
       "tradetime                                                                    \n",
       "2023-09-22 11:30:00       4.51       2.42      10.23       3.29       9.81   \n",
       "2023-09-22 13:00:00       4.51       2.42      10.23       3.29       9.81   \n",
       "2023-09-22 13:01:00       4.51       2.42      10.21       3.29       9.80   \n",
       "\n",
       "securityid           ...  688787.SH  688788.SH  688789.SH  688793.SH  \\\n",
       "tradetime            ...                                               \n",
       "2023-09-22 11:30:00  ...  71.940002  37.369999  88.510002  35.720001   \n",
       "2023-09-22 13:00:00  ...  71.940002  37.369999  88.510002  35.720001   \n",
       "2023-09-22 13:01:00  ...  71.610001  37.389999  88.690002  35.730000   \n",
       "\n",
       "securityid           688798.SH  688799.SH  688800.SH  688819.SH  688981.SH  \\\n",
       "tradetime                                                                    \n",
       "2023-09-22 11:30:00  68.669998  40.009998  39.049999  34.419998  50.470001   \n",
       "2023-09-22 13:00:00  68.669998  40.009998  39.049999  34.419998  50.490002   \n",
       "2023-09-22 13:01:00  68.610001  39.930000  38.880001  34.400002  50.480000   \n",
       "\n",
       "securityid           689009.SH  \n",
       "tradetime                       \n",
       "2023-09-22 11:30:00  34.799999  \n",
       "2023-09-22 13:00:00  34.799999  \n",
       "2023-09-22 13:01:00  34.849998  \n",
       "\n",
       "[3 rows x 5059 columns]"
      ]
     },
     "execution_count": 40,
     "metadata": {},
     "output_type": "execute_result"
    }
   ],
   "source": [
    "prices.loc[[pd.to_datetime('2023-09-22 11:30:00'), pd.to_datetime('2023-09-22 13:00:00'), pd.to_datetime('2023-09-22 13:01:00')]]"
   ]
  },
  {
   "cell_type": "code",
   "execution_count": 41,
   "metadata": {},
   "outputs": [
    {
     "data": {
      "text/plain": [
       "-0.0007524454477050302"
      ]
     },
     "execution_count": 41,
     "metadata": {},
     "output_type": "execute_result"
    }
   ],
   "source": [
    "13.28/13.29-1"
   ]
  },
  {
   "cell_type": "code",
   "execution_count": 33,
   "metadata": {},
   "outputs": [
    {
     "data": {
      "text/html": [
       "<div>\n",
       "<style scoped>\n",
       "    .dataframe tbody tr th:only-of-type {\n",
       "        vertical-align: middle;\n",
       "    }\n",
       "\n",
       "    .dataframe tbody tr th {\n",
       "        vertical-align: top;\n",
       "    }\n",
       "\n",
       "    .dataframe thead th {\n",
       "        text-align: right;\n",
       "    }\n",
       "</style>\n",
       "<table border=\"1\" class=\"dataframe\">\n",
       "  <thead>\n",
       "    <tr style=\"text-align: right;\">\n",
       "      <th></th>\n",
       "      <th>1m</th>\n",
       "      <th>3m</th>\n",
       "      <th>5m</th>\n",
       "      <th>factor</th>\n",
       "      <th>factor_quantile</th>\n",
       "    </tr>\n",
       "    <tr>\n",
       "      <th>asset</th>\n",
       "      <th></th>\n",
       "      <th></th>\n",
       "      <th></th>\n",
       "      <th></th>\n",
       "      <th></th>\n",
       "    </tr>\n",
       "  </thead>\n",
       "  <tbody>\n",
       "    <tr>\n",
       "      <th>000001.SZ</th>\n",
       "      <td>-0.000898</td>\n",
       "      <td>-0.000898</td>\n",
       "      <td>-0.000898</td>\n",
       "      <td>0.001799</td>\n",
       "      <td>3.0</td>\n",
       "    </tr>\n",
       "    <tr>\n",
       "      <th>000002.SZ</th>\n",
       "      <td>-0.000752</td>\n",
       "      <td>-0.001505</td>\n",
       "      <td>-0.000752</td>\n",
       "      <td>0.003019</td>\n",
       "      <td>4.0</td>\n",
       "    </tr>\n",
       "    <tr>\n",
       "      <th>000004.SZ</th>\n",
       "      <td>0.001845</td>\n",
       "      <td>0.002460</td>\n",
       "      <td>0.003075</td>\n",
       "      <td>0.000615</td>\n",
       "      <td>2.0</td>\n",
       "    </tr>\n",
       "    <tr>\n",
       "      <th>000005.SZ</th>\n",
       "      <td>-0.006803</td>\n",
       "      <td>-0.013605</td>\n",
       "      <td>-0.013605</td>\n",
       "      <td>0.006849</td>\n",
       "      <td>5.0</td>\n",
       "    </tr>\n",
       "    <tr>\n",
       "      <th>000006.SZ</th>\n",
       "      <td>0.000000</td>\n",
       "      <td>0.000000</td>\n",
       "      <td>0.000000</td>\n",
       "      <td>0.000000</td>\n",
       "      <td>2.0</td>\n",
       "    </tr>\n",
       "    <tr>\n",
       "      <th>...</th>\n",
       "      <td>...</td>\n",
       "      <td>...</td>\n",
       "      <td>...</td>\n",
       "      <td>...</td>\n",
       "      <td>...</td>\n",
       "    </tr>\n",
       "    <tr>\n",
       "      <th>688799.SH</th>\n",
       "      <td>-0.001999</td>\n",
       "      <td>-0.003749</td>\n",
       "      <td>-0.002999</td>\n",
       "      <td>0.003763</td>\n",
       "      <td>4.0</td>\n",
       "    </tr>\n",
       "    <tr>\n",
       "      <th>688800.SH</th>\n",
       "      <td>-0.004353</td>\n",
       "      <td>-0.006914</td>\n",
       "      <td>-0.008963</td>\n",
       "      <td>0.006962</td>\n",
       "      <td>5.0</td>\n",
       "    </tr>\n",
       "    <tr>\n",
       "      <th>688819.SH</th>\n",
       "      <td>-0.000581</td>\n",
       "      <td>-0.001162</td>\n",
       "      <td>-0.002034</td>\n",
       "      <td>-0.000581</td>\n",
       "      <td>1.0</td>\n",
       "    </tr>\n",
       "    <tr>\n",
       "      <th>688981.SH</th>\n",
       "      <td>0.001387</td>\n",
       "      <td>0.000594</td>\n",
       "      <td>-0.001189</td>\n",
       "      <td>0.001190</td>\n",
       "      <td>3.0</td>\n",
       "    </tr>\n",
       "    <tr>\n",
       "      <th>689009.SH</th>\n",
       "      <td>-0.001149</td>\n",
       "      <td>-0.004023</td>\n",
       "      <td>-0.002299</td>\n",
       "      <td>0.013986</td>\n",
       "      <td>5.0</td>\n",
       "    </tr>\n",
       "  </tbody>\n",
       "</table>\n",
       "<p>5059 rows × 5 columns</p>\n",
       "</div>"
      ],
      "text/plain": [
       "                 1m        3m        5m    factor  factor_quantile\n",
       "asset                                                             \n",
       "000001.SZ -0.000898 -0.000898 -0.000898  0.001799              3.0\n",
       "000002.SZ -0.000752 -0.001505 -0.000752  0.003019              4.0\n",
       "000004.SZ  0.001845  0.002460  0.003075  0.000615              2.0\n",
       "000005.SZ -0.006803 -0.013605 -0.013605  0.006849              5.0\n",
       "000006.SZ  0.000000  0.000000  0.000000  0.000000              2.0\n",
       "...             ...       ...       ...       ...              ...\n",
       "688799.SH -0.001999 -0.003749 -0.002999  0.003763              4.0\n",
       "688800.SH -0.004353 -0.006914 -0.008963  0.006962              5.0\n",
       "688819.SH -0.000581 -0.001162 -0.002034 -0.000581              1.0\n",
       "688981.SH  0.001387  0.000594 -0.001189  0.001190              3.0\n",
       "689009.SH -0.001149 -0.004023 -0.002299  0.013986              5.0\n",
       "\n",
       "[5059 rows x 5 columns]"
      ]
     },
     "execution_count": 33,
     "metadata": {},
     "output_type": "execute_result"
    }
   ],
   "source": [
    "data.loc[pd.to_datetime('2023-09-22 11:30:00')]"
   ]
  },
  {
   "cell_type": "code",
   "execution_count": null,
   "metadata": {},
   "outputs": [],
   "source": [
    "prices.loc[pd.to_datetime('2023-09-22 11:29:57'):pd.to_datetime('2023-09-22 13:00:10')]"
   ]
  },
  {
   "cell_type": "code",
   "execution_count": null,
   "metadata": {},
   "outputs": [],
   "source": [
    "import pandas as pd\n",
    "# data.loc[pd.to_datetime('2023-09-22 11:29:57')]\n",
    "data.loc[pd.to_datetime('2023-09-22 11:30:03'):pd.to_datetime('2023-09-22 11:30:30')]"
   ]
  },
  {
   "cell_type": "code",
   "execution_count": null,
   "metadata": {},
   "outputs": [],
   "source": [
    "from alphalens import performance as perf\n",
    "group_neutral = False\n",
    "ic_data = perf.factor_information_coefficient(data, group_neutral)\n",
    "\n",
    "import pandas as pd \n",
    "from scipy import stats\n",
    "ic_summary_table = pd.DataFrame()\n",
    "ic_summary_table[\"IC Mean\"] = ic_data.mean()\n",
    "ic_summary_table[\"IC Std.\"] = ic_data.std()\n",
    "ic_summary_table[\"Risk-Adjusted IC\"] = \\\n",
    "    ic_data.mean() / ic_data.std()\n",
    "t_stat, p_value = stats.ttest_1samp(ic_data, 0, nan_policy='omit')\n",
    "ic_summary_table[\"t-stat(IC)\"] = t_stat\n",
    "ic_summary_table[\"p-value(IC)\"] = p_value\n",
    "ic_summary_table[\"IC Skew\"] = stats.skew(ic_data, nan_policy='omit')\n",
    "ic_summary_table[\"IC Kurtosis\"] = stats.kurtosis(ic_data, nan_policy='omit')\n",
    "ic_summary_table['IC win rate'] = (ic_data > 0).sum() / ic_data.count()"
   ]
  },
  {
   "cell_type": "code",
   "execution_count": null,
   "metadata": {},
   "outputs": [],
   "source": [
    "ic_summary_table"
   ]
  },
  {
   "cell_type": "code",
   "execution_count": null,
   "metadata": {},
   "outputs": [],
   "source": [
    "alphalens.tears.create_returns_tear_sheet(data, long_short=True, group_neutral=False, by_group=False)"
   ]
  },
  {
   "cell_type": "code",
   "execution_count": null,
   "metadata": {},
   "outputs": [],
   "source": [
    "alphalens.tears.create_information_tear_sheet(data, group_neutral=False, by_group=False)"
   ]
  },
  {
   "cell_type": "code",
   "execution_count": null,
   "metadata": {},
   "outputs": [],
   "source": [
    "alphalens.tears.create_turnover_tear_sheet(data)"
   ]
  },
  {
   "cell_type": "code",
   "execution_count": null,
   "metadata": {},
   "outputs": [],
   "source": [
    "alphalens.tears.create_summary_tear_sheet(data)"
   ]
  },
  {
   "cell_type": "code",
   "execution_count": 7,
   "metadata": {},
   "outputs": [
    {
     "name": "stdout",
     "output_type": "stream",
     "text": [
      "{'function': 'corr', 'args': [{'function': 'add', 'args': ['x', {'function': 'mul', 'args': ['x', 'y'], 'kwargs': {}}], 'kwargs': {}}, 'z'], 'kwargs': {'window': '1'}}\n"
     ]
    }
   ],
   "source": [
    "import re\n",
    "\n",
    "def parse_function_call(s):\n",
    "    def parse_args(s):\n",
    "        args = []\n",
    "        balance = 0\n",
    "        current_arg = []\n",
    "        for char in s:\n",
    "            if char == ',' and balance == 0:\n",
    "                args.append(''.join(current_arg).strip())\n",
    "                current_arg = []\n",
    "            else:\n",
    "                if char == '(':\n",
    "                    balance += 1\n",
    "                elif char == ')':\n",
    "                    balance -= 1\n",
    "                current_arg.append(char)\n",
    "        if current_arg:\n",
    "            args.append(''.join(current_arg).strip())\n",
    "        return args\n",
    "\n",
    "    match = re.match(r'(\\w+)\\((.*)\\)', s)\n",
    "    if match:\n",
    "        func_name = match.group(1)\n",
    "        args_str = match.group(2)\n",
    "        args = parse_args(args_str)\n",
    "        args = [parse_function_call(arg) for arg in args]\n",
    "        parsed_args = []\n",
    "        parsed_kwargs = {}\n",
    "        for arg in args:\n",
    "            if isinstance(arg, dict):\n",
    "                parsed_args.append(arg)\n",
    "            elif isinstance(arg, str):\n",
    "                arg = arg.strip()\n",
    "                if \"=\" in arg:\n",
    "                    parsed_kwargs[arg.split(\"=\")[0].strip()] = arg.split(\"=\")[1].strip()\n",
    "                else:\n",
    "                    parsed_args.append(arg)\n",
    "        return {'function': func_name, 'args': parsed_args, 'kwargs': parsed_kwargs}\n",
    "    else:\n",
    "        return s\n",
    "\n",
    "# 示例\n",
    "input_str = \"corr(add(x,mul(x,y)),z, window=1)\"\n",
    "parsed_result = parse_function_call(input_str)\n",
    "print(parsed_result)"
   ]
  },
  {
   "cell_type": "code",
   "execution_count": null,
   "metadata": {},
   "outputs": [],
   "source": [
    "def rank_pct(arr):\n",
    "    sorter = np.argsort(arr)\n",
    "    inv_sorter = np.argsort(sorter)\n",
    "    ranks = np.arange(1, len(arr) + 1)\n",
    "    pct_ranks = ranks[inv_sorter] / len(arr)\n",
    "    return pct_ranks\n",
    "\n",
    "# 示例\n",
    "data = np.array([50, 30, 20, 40, 10])\n",
    "result = rank_pct(data)\n",
    "print(result)"
   ]
  },
  {
   "cell_type": "code",
   "execution_count": 23,
   "metadata": {},
   "outputs": [],
   "source": [
    "import numpy as np\n",
    "def rank_pct(arr):\n",
    "    sorter = np.argsort(arr)\n",
    "    inv_sorter = np.argsort(sorter)\n",
    "    ranks = np.arange(1, len(arr) + 1)\n",
    "    pct_ranks = ranks[inv_sorter] / len(arr)\n",
    "    return pct_ranks\n",
    "\n",
    "# 示例\n"
   ]
  },
  {
   "cell_type": "code",
   "execution_count": 25,
   "metadata": {},
   "outputs": [
    {
     "data": {
      "text/plain": [
       "array([[4, 3, 1, 2, 0],\n",
       "       [0, 2, 1, 3, 4]])"
      ]
     },
     "execution_count": 25,
     "metadata": {},
     "output_type": "execute_result"
    }
   ],
   "source": [
    "sorter = np.argsort(data)\n",
    "inv_sorter = np.argsort(sorter)\n",
    "ranks = np.arange(1, len(arr) + 1)\n",
    "pct_ranks = ranks[inv_sorter] / len(arr)"
   ]
  },
  {
   "cell_type": "code",
   "execution_count": 29,
   "metadata": {},
   "outputs": [
    {
     "data": {
      "text/plain": [
       "array([5, 4])"
      ]
     },
     "execution_count": 29,
     "metadata": {},
     "output_type": "execute_result"
    }
   ],
   "source": [
    "data = np.array([[50, 30, 20, 20, 10], [1,np.nan,2,4,5]])\n",
    "sorter = np.argsort(data)\n",
    "inv_sorter = np.argsort(sorter)\n",
    "# result = rank_pct(data)\n",
    "# print(result)\n",
    "np.count_nonzero(~np.isnan(data), axis=1)"
   ]
  },
  {
   "cell_type": "code",
   "execution_count": 28,
   "metadata": {},
   "outputs": [
    {
     "data": {
      "text/plain": [
       "[array([1, 2, 3, 4, 5]), array([1, 2, 3, 4])]"
      ]
     },
     "execution_count": 28,
     "metadata": {},
     "output_type": "execute_result"
    }
   ],
   "source": [
    "ranks = [np.arange(1, i+1) for i in np.count_nonzero(~np.isnan(data), axis=1)]\n",
    "ranks"
   ]
  },
  {
   "cell_type": "code",
   "execution_count": 9,
   "metadata": {},
   "outputs": [
    {
     "name": "stdout",
     "output_type": "stream",
     "text": [
      "5.013756990432739\n",
      "8.345810651779175\n"
     ]
    }
   ],
   "source": [
    "arr = np.array([[1,2,3,4,5], [3,12,3,1,1]])\n",
    "arr_df = pd.DataFrame(arr.T)\n",
    "import time\n",
    "start = time.time()\n",
    "for i in range(100000):\n",
    "    arr_df.rolling(window=3).mean(numeric_only=True, engine='numba')\n",
    "print(time.time()-start)\n",
    "\n",
    "start = time.time()\n",
    "for i in range(100000):\n",
    "    arr_df.rolling(window=3).mean()\n",
    "print(time.time()-start)"
   ]
  },
  {
   "cell_type": "code",
   "execution_count": 21,
   "metadata": {},
   "outputs": [
    {
     "data": {
      "text/plain": [
       "array([1, 1, 1])"
      ]
     },
     "execution_count": 21,
     "metadata": {},
     "output_type": "execute_result"
    }
   ],
   "source": [
    "np.count_nonzero(np.isnan(np.array([[np.nan, 1, 2], [3, np.nan, np.nan]])), axis=0)"
   ]
  },
  {
   "cell_type": "code",
   "execution_count": 5,
   "metadata": {},
   "outputs": [
    {
     "data": {
      "text/html": [
       "<div>\n",
       "<style scoped>\n",
       "    .dataframe tbody tr th:only-of-type {\n",
       "        vertical-align: middle;\n",
       "    }\n",
       "\n",
       "    .dataframe tbody tr th {\n",
       "        vertical-align: top;\n",
       "    }\n",
       "\n",
       "    .dataframe thead th {\n",
       "        text-align: right;\n",
       "    }\n",
       "</style>\n",
       "<table border=\"1\" class=\"dataframe\">\n",
       "  <thead>\n",
       "    <tr style=\"text-align: right;\">\n",
       "      <th></th>\n",
       "      <th>0</th>\n",
       "      <th>1</th>\n",
       "      <th>2</th>\n",
       "    </tr>\n",
       "  </thead>\n",
       "  <tbody>\n",
       "    <tr>\n",
       "      <th>0</th>\n",
       "      <td>NaN</td>\n",
       "      <td>1.0</td>\n",
       "      <td>2.0</td>\n",
       "    </tr>\n",
       "    <tr>\n",
       "      <th>1</th>\n",
       "      <td>3.0</td>\n",
       "      <td>1.0</td>\n",
       "      <td>2.0</td>\n",
       "    </tr>\n",
       "    <tr>\n",
       "      <th>2</th>\n",
       "      <td>2.0</td>\n",
       "      <td>3.0</td>\n",
       "      <td>4.0</td>\n",
       "    </tr>\n",
       "  </tbody>\n",
       "</table>\n",
       "</div>"
      ],
      "text/plain": [
       "     0    1    2\n",
       "0  NaN  1.0  2.0\n",
       "1  3.0  1.0  2.0\n",
       "2  2.0  3.0  4.0"
      ]
     },
     "execution_count": 5,
     "metadata": {},
     "output_type": "execute_result"
    }
   ],
   "source": [
    "import numpy as np\n",
    "import pandas as pd\n",
    "a = np.array([[np.nan, 1, 2], [3, np.nan, np.nan], [2,3,4]])\n",
    "a = pd.DataFrame(a)\n",
    "a.ffill()"
   ]
  },
  {
   "cell_type": "code",
   "execution_count": null,
   "metadata": {},
   "outputs": [],
   "source": []
  }
 ],
 "metadata": {
  "kernelspec": {
   "display_name": "py38",
   "language": "python",
   "name": "python3"
  },
  "language_info": {
   "codemirror_mode": {
    "name": "ipython",
    "version": 3
   },
   "file_extension": ".py",
   "mimetype": "text/x-python",
   "name": "python",
   "nbconvert_exporter": "python",
   "pygments_lexer": "ipython3",
   "version": "3.8.19"
  }
 },
 "nbformat": 4,
 "nbformat_minor": 2
}

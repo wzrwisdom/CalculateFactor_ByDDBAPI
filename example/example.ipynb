{
 "cells": [
  {
   "cell_type": "code",
   "execution_count": 7,
   "metadata": {},
   "outputs": [],
   "source": [
    "import sys\n",
    "sys.path.insert(0, \"../\")\n",
    "import dolphindb as ddb \n",
    "import numpy as np\n",
    "from factor_cal.feature import features as fe\n",
    "from factor_cal.factor import factors as fa\n",
    "from factor_cal.config_loader import basic_config as cfg\n",
    "from factor_cal.utils import ddb_utils as du\n",
    "from factor_cal.utils import tools as tl\n",
    "from factor_cal.factor import factor_func as ff\n",
    "import pandas as pd\n",
    "\n",
    "# read config file\n",
    "config = cfg.BasicConfig('config/config.yml')\n",
    "# obtain the ddb session\n",
    "s = du.DDBSessionSingleton().session"
   ]
  },
  {
   "cell_type": "code",
   "execution_count": 8,
   "metadata": {},
   "outputs": [],
   "source": [
    "features = fe.Features(config)\n",
    "factors = fa.Factors(config, features)\n",
    "# factors.process()"
   ]
  },
  {
   "cell_type": "code",
   "execution_count": 10,
   "metadata": {},
   "outputs": [
    {
     "name": "stdout",
     "output_type": "stream",
     "text": [
      "ts_rank(fill_na(divide(delta(ffill_na(vwap), shift=1), ts_sum(vol, window=1))), window=5*20)\n"
     ]
    }
   ],
   "source": [
    "print(factors.fac_dict['td_p_v_ratio_3s_5min'])"
   ]
  },
  {
   "cell_type": "code",
   "execution_count": null,
   "metadata": {},
   "outputs": [],
   "source": [
    "df = factors.fac_dict['close_ret'].output_data"
   ]
  },
  {
   "cell_type": "code",
   "execution_count": null,
   "metadata": {},
   "outputs": [],
   "source": [
    "dates = features.feat_dict['close'].get_dates()\n",
    "secs = features.feat_dict['close'].get_secs()\n",
    "data = features.feat_dict['close'].get_data()"
   ]
  },
  {
   "cell_type": "code",
   "execution_count": null,
   "metadata": {},
   "outputs": [],
   "source": [
    "np.where(dates==np.datetime64('2023-04-20T09:34:24.000000000'))"
   ]
  },
  {
   "cell_type": "code",
   "execution_count": null,
   "metadata": {},
   "outputs": [],
   "source": []
  },
  {
   "cell_type": "code",
   "execution_count": null,
   "metadata": {},
   "outputs": [],
   "source": [
    "df[df.isna().any(axis=1)]"
   ]
  },
  {
   "cell_type": "code",
   "execution_count": null,
   "metadata": {},
   "outputs": [],
   "source": [
    "features.get_feature('open').get_secs()"
   ]
  },
  {
   "cell_type": "code",
   "execution_count": null,
   "metadata": {},
   "outputs": [],
   "source": [
    "factors.process()"
   ]
  },
  {
   "cell_type": "code",
   "execution_count": null,
   "metadata": {},
   "outputs": [],
   "source": [
    "tl.show_memory(\"before\")\n",
    "data = features.get_feature('open')\n",
    "tl.show_memory(\"after\")"
   ]
  },
  {
   "cell_type": "code",
   "execution_count": null,
   "metadata": {},
   "outputs": [],
   "source": [
    "data2 = features.get_feature('en_buy_n')\n",
    "tl.show_memory(\"after\")"
   ]
  },
  {
   "cell_type": "code",
   "execution_count": null,
   "metadata": {},
   "outputs": [],
   "source": [
    "data3 = features.get_feature('close')\n",
    "tl.show_memory(\"after\")"
   ]
  },
  {
   "cell_type": "code",
   "execution_count": null,
   "metadata": {},
   "outputs": [],
   "source": [
    "type(data)"
   ]
  },
  {
   "cell_type": "code",
   "execution_count": null,
   "metadata": {},
   "outputs": [],
   "source": [
    "def ret(x:np.ndarray, shift:int=1) -> np.ndarray:\n",
    "    tl.show_memory(\"1\")\n",
    "    x_shift = np.roll(x, shift, axis=0)\n",
    "    tl.show_memory(\"2\")\n",
    "    x_shift[0:shift] = np.nan\n",
    "    tl.show_memory(\"3\")\n",
    "    return x / x_shift - 1"
   ]
  },
  {
   "cell_type": "code",
   "execution_count": null,
   "metadata": {},
   "outputs": [],
   "source": [
    "tl.show_memory(\"before\")"
   ]
  },
  {
   "cell_type": "code",
   "execution_count": null,
   "metadata": {},
   "outputs": [],
   "source": [
    "ret(data, 2)\n",
    "tl.show_memory(\"after\")"
   ]
  },
  {
   "cell_type": "code",
   "execution_count": null,
   "metadata": {},
   "outputs": [],
   "source": [
    "class Test:\n",
    "    def __init__(self, config):\n",
    "        self.config = config"
   ]
  },
  {
   "cell_type": "code",
   "execution_count": null,
   "metadata": {},
   "outputs": [],
   "source": [
    "config = {\"haha\": 1, \"xixi\": 2}\n",
    "a = Test(config)"
   ]
  },
  {
   "cell_type": "code",
   "execution_count": null,
   "metadata": {},
   "outputs": [],
   "source": [
    "from factor_cal.factor.factor_func import rolling_correlation"
   ]
  },
  {
   "cell_type": "code",
   "execution_count": null,
   "metadata": {},
   "outputs": [],
   "source": [
    "import numpy as np\n",
    "# 示例数据\n",
    "X = np.random.rand(20, 3)\n",
    "Y = np.random.rand(20, 3)\n",
    "window_size = 5\n",
    "\n",
    "# 计算滚动相关系数\n",
    "result = rolling_correlation(X, Y, window_size)\n",
    "print(result)"
   ]
  },
  {
   "cell_type": "code",
   "execution_count": null,
   "metadata": {},
   "outputs": [],
   "source": [
    "xc, yc = X[:5, 0], Y[:5, 0]\n",
    "xc = [1, 2, 3, 4, 5]\n",
    "yc = [5, 4, 3, 2, 1]\n",
    "# np.correlate(X[:5, 0], Y[:5, 0]), np.corrcoef(X[:5, 0], Y[:5, 0])\n",
    "\n",
    "from scipy.stats import pearsonr, spearmanr\n",
    "pearsonr(xc, yc), \n",
    "type(spearmanr(xc, yc)[0])"
   ]
  },
  {
   "cell_type": "code",
   "execution_count": null,
   "metadata": {},
   "outputs": [],
   "source": [
    "t = s.loadTable(tableName='t_trade_info')\n",
    "a = t.exec('open').pivotby('trade_time', 'security_code')"
   ]
  },
  {
   "cell_type": "code",
   "execution_count": null,
   "metadata": {},
   "outputs": [],
   "source": [
    "b = a.toDF()"
   ]
  },
  {
   "cell_type": "code",
   "execution_count": null,
   "metadata": {},
   "outputs": [],
   "source": [
    "tmp_feat = config['features'][0]\n",
    "ddb_name = tmp_feat['ddb_name']\n",
    "tb_feat = tmp_feat['tb_features']\n",
    "\n",
    "tb_name = 'trade_info'\n",
    "time_col = tb_feat[tb_name]['time_col']\n",
    "sec_col = tb_feat[tb_name]['sec_col']"
   ]
  },
  {
   "cell_type": "code",
   "execution_count": null,
   "metadata": {},
   "outputs": [],
   "source": [
    "tables = fe.DDB_FeatTable(ddb_name, tb_name, time_col, sec_col)"
   ]
  },
  {
   "cell_type": "code",
   "execution_count": null,
   "metadata": {},
   "outputs": [],
   "source": [
    "tables.get_table(config['start_time'], config['end_time'], ('000002', '000004'))"
   ]
  },
  {
   "cell_type": "code",
   "execution_count": null,
   "metadata": {},
   "outputs": [],
   "source": [
    "a = {\"a\": 2}\n",
    "c = a.get('b', None)\n",
    "c is None"
   ]
  },
  {
   "cell_type": "code",
   "execution_count": null,
   "metadata": {},
   "outputs": [],
   "source": [
    "s.run('select * from t_trade_info')"
   ]
  },
  {
   "cell_type": "code",
   "execution_count": null,
   "metadata": {},
   "outputs": [],
   "source": [
    "ddb_name, tb_feat"
   ]
  },
  {
   "cell_type": "code",
   "execution_count": null,
   "metadata": {},
   "outputs": [],
   "source": [
    "print(ddb_name)\n",
    "# create a dictionary to store features\n",
    "index = 0\n",
    "feat_dict = {}\n",
    "for tb in tb_feat.keys():\n",
    "    print(\"Table Name: \", tb)\n",
    "    ddb_tb = s.loadTable(dbPath=ddb_name, tableName=tb)\n",
    "    \n",
    "    features = tb_feat[tb]['feat_cols']\n",
    "    sec_col = tb_feat[tb]['sec_col']\n",
    "    time_col = tb_feat[tb]['time_col']\n",
    "    print(\"Features contain: \", list(features.keys()))\n",
    "\n",
    "    # read features from DolphinDB in a panel format\n",
    "    for feat_nkname, feat_colname in features.items():\n",
    "        index += 1\n",
    "        if (index > 1):\n",
    "            break\n",
    "        print(\"Feature Name: \", feat_nkname, flush=True)\n",
    "        feat_df = ddb_tb.select(feat_colname).pivotby(time_col, sec_col).toDF()\n",
    "        feat_dict[feat_nkname] = feat_df\n",
    "        # print(feat_df.head(1), flush=True)\n"
   ]
  },
  {
   "cell_type": "code",
   "execution_count": null,
   "metadata": {},
   "outputs": [],
   "source": [
    "print(ddb_name)\n",
    "# create a dictionary to store features\n",
    "index = 0\n",
    "feat_dict = {}\n",
    "for tb in tb_feat.keys():\n",
    "    print(\"Table Name: \", tb)\n",
    "    ddb_tb = s.loadTable(dbPath=ddb_name, tableName=tb)\n",
    "    \n",
    "    features = tb_feat[tb]['feat_cols']\n",
    "    sec_col = tb_feat[tb]['sec_col']\n",
    "    time_col = tb_feat[tb]['time_col']\n",
    "    print(\"Features contain: \", list(features.keys()))\n",
    "\n",
    "    # read features from DolphinDB in a panel format\n",
    "    for feat_nkname, feat_colname in features.items():\n",
    "        index += 1\n",
    "        if (index > 2):\n",
    "            break\n",
    "        print(\"Feature Name: \", feat_nkname, flush=True)\n",
    "        feat_df = ddb_tb.select(feat_colname).pivotby(time_col, sec_col).toDF()\n",
    "        feat_dict[feat_nkname] = feat_df\n",
    "        # print(feat_df.head(1), flush=True)\n"
   ]
  },
  {
   "cell_type": "code",
   "execution_count": null,
   "metadata": {},
   "outputs": [],
   "source": [
    "tb = 'trade_info'\n",
    "s.run(f'select close from loadTable(\"{ddb_name}\", \"{tb}\") pivot by {time_col}, {sec_col}')"
   ]
  },
  {
   "cell_type": "code",
   "execution_count": null,
   "metadata": {},
   "outputs": [],
   "source": [
    "# import sys\n",
    "# print(sys.getsizeof(feat_dict['open']) / 1024) # KB\n",
    "# print(sys.getsizeof(feat_dict['open']) / 1024 / 1024) # MB\n",
    "# print(sys.getsizeof(feat_dict['open']) / 1024 / 1024 / 1024) # GB"
   ]
  },
  {
   "cell_type": "code",
   "execution_count": null,
   "metadata": {},
   "outputs": [],
   "source": [
    "f'select close from loadTable({ddb_name}, {tb}) pivot by {time_col}, {sec_col}'"
   ]
  },
  {
   "cell_type": "code",
   "execution_count": null,
   "metadata": {},
   "outputs": [],
   "source": [
    "ddb_name, tb"
   ]
  },
  {
   "cell_type": "code",
   "execution_count": null,
   "metadata": {},
   "outputs": [],
   "source": [
    "a = s.loadTable(dbPath=ddb_name, tableName=tb)"
   ]
  },
  {
   "cell_type": "code",
   "execution_count": null,
   "metadata": {},
   "outputs": [],
   "source": [
    "b = a.select('close').where('trade_time < 2023-04-20T09:30:00.000')"
   ]
  },
  {
   "cell_type": "code",
   "execution_count": null,
   "metadata": {},
   "outputs": [],
   "source": [
    "trade = s.loadTableBySQL(tableName=\"trade_info\", dbPath=\"dfs://CROSS_SECTION_6sec\", sql=\"select * from trade_info where second(trade_time)<09:50:00\", tableAliasName='t1')\n"
   ]
  },
  {
   "cell_type": "code",
   "execution_count": null,
   "metadata": {},
   "outputs": [],
   "source": [
    "trade"
   ]
  },
  {
   "cell_type": "code",
   "execution_count": null,
   "metadata": {},
   "outputs": [],
   "source": [
    "import ddb_utils as du"
   ]
  },
  {
   "cell_type": "code",
   "execution_count": null,
   "metadata": {},
   "outputs": [],
   "source": [
    "s = du.DDBSessionSingleton().session"
   ]
  },
  {
   "cell_type": "code",
   "execution_count": null,
   "metadata": {},
   "outputs": [],
   "source": [
    "table = s.run('select * from loadTable(\"dfs://CROSS_SECTION_6sec\", \"trade_info\") where second(trade_time) between 09:30:06 and 09:30:18 limit 10')"
   ]
  },
  {
   "cell_type": "code",
   "execution_count": null,
   "metadata": {},
   "outputs": [],
   "source": [
    "a = s.loadTable(\"trade_info\", \"dfs://CROSS_SECTION_6sec\")\n",
    "b = a.select(\"*\").where(\"second(trade_time) between 09:30:06 and 09:30:18\").showSQL()"
   ]
  },
  {
   "cell_type": "code",
   "execution_count": null,
   "metadata": {},
   "outputs": [],
   "source": [
    "s.run('tmp_b = ' + b)"
   ]
  },
  {
   "cell_type": "code",
   "execution_count": null,
   "metadata": {},
   "outputs": [],
   "source": [
    "s.run('objs(true)')"
   ]
  },
  {
   "cell_type": "code",
   "execution_count": null,
   "metadata": {},
   "outputs": [],
   "source": []
  }
 ],
 "metadata": {
  "kernelspec": {
   "display_name": "ddbEnv",
   "language": "python",
   "name": "python3"
  },
  "language_info": {
   "codemirror_mode": {
    "name": "ipython",
    "version": 3
   },
   "file_extension": ".py",
   "mimetype": "text/x-python",
   "name": "python",
   "nbconvert_exporter": "python",
   "pygments_lexer": "ipython3",
   "version": "3.8.19"
  }
 },
 "nbformat": 4,
 "nbformat_minor": 2
}

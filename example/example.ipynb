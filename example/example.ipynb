{
 "cells": [
  {
   "cell_type": "code",
   "execution_count": 1,
   "metadata": {},
   "outputs": [],
   "source": [
    "import sys\n",
    "sys.path.insert(0, \"../\")\n",
    "import dolphindb as ddb \n",
    "import numpy as np\n",
    "from factor_cal.feature import features as fe\n",
    "from factor_cal.factor import factors as fa\n",
    "from factor_cal.config_loader import basic_config as cfg\n",
    "from factor_cal.utils import ddb_utils as du\n",
    "from factor_cal.utils import tools as tl\n",
    "from factor_cal.factor import factor_func as ff\n",
    "\n",
    "# read config file\n",
    "config = cfg.BasicConfig('config/config.yml')\n",
    "# obtain the ddb session\n",
    "s = du.DDBSessionSingleton().session"
   ]
  },
  {
   "cell_type": "code",
   "execution_count": 2,
   "metadata": {},
   "outputs": [
    {
     "name": "stdout",
     "output_type": "stream",
     "text": [
      "Loading [feature]close from DolphinDB server\n",
      "Loading [feature]vol from DolphinDB server\n"
     ]
    }
   ],
   "source": [
    "features = fe.Features(config)\n",
    "factors = fa.Factors(config, features)"
   ]
  },
  {
   "cell_type": "code",
   "execution_count": 7,
   "metadata": {},
   "outputs": [
    {
     "ename": "AttributeError",
     "evalue": "'BasicFactor' object has no attribute 'data'",
     "output_type": "error",
     "traceback": [
      "\u001b[1;31m---------------------------------------------------------------------------\u001b[0m",
      "\u001b[1;31mAttributeError\u001b[0m                            Traceback (most recent call last)",
      "Cell \u001b[1;32mIn[7], line 1\u001b[0m\n\u001b[1;32m----> 1\u001b[0m \u001b[43mfactors\u001b[49m\u001b[38;5;241;43m.\u001b[39;49m\u001b[43mfac_dict\u001b[49m\u001b[43m[\u001b[49m\u001b[38;5;124;43m'\u001b[39;49m\u001b[38;5;124;43mclose_ret\u001b[39;49m\u001b[38;5;124;43m'\u001b[39;49m\u001b[43m]\u001b[49m\u001b[38;5;241;43m.\u001b[39;49m\u001b[43mdata\u001b[49m\n",
      "\u001b[1;31mAttributeError\u001b[0m: 'BasicFactor' object has no attribute 'data'"
     ]
    }
   ],
   "source": [
    "factors.fac_dict['close_ret'].data"
   ]
  },
  {
   "cell_type": "code",
   "execution_count": 3,
   "metadata": {},
   "outputs": [
    {
     "name": "stdout",
     "output_type": "stream",
     "text": [
      "Loading [feature]open from DolphinDB server\n"
     ]
    },
    {
     "data": {
      "text/plain": [
       "array(['000002', '000004'], dtype=object)"
      ]
     },
     "execution_count": 3,
     "metadata": {},
     "output_type": "execute_result"
    }
   ],
   "source": [
    "features.get_feature('open').get_secs()"
   ]
  },
  {
   "cell_type": "code",
   "execution_count": 5,
   "metadata": {},
   "outputs": [
    {
     "ename": "RuntimeError",
     "evalue": "Only DolphinDB Table object is accepted",
     "output_type": "error",
     "traceback": [
      "\u001b[1;31m---------------------------------------------------------------------------\u001b[0m",
      "\u001b[1;31mRuntimeError\u001b[0m                              Traceback (most recent call last)",
      "Cell \u001b[1;32mIn[5], line 1\u001b[0m\n\u001b[1;32m----> 1\u001b[0m \u001b[43mfactors\u001b[49m\u001b[38;5;241;43m.\u001b[39;49m\u001b[43mprocess\u001b[49m\u001b[43m(\u001b[49m\u001b[43m)\u001b[49m\n",
      "File \u001b[1;32md:\\DolphinDB_script\\factor_cal\\example\\..\\factor_cal\\factor\\factors.py:51\u001b[0m, in \u001b[0;36mFactors.process\u001b[1;34m(self)\u001b[0m\n\u001b[0;32m     49\u001b[0m \u001b[38;5;28mself\u001b[39m\u001b[38;5;241m.\u001b[39mfeatures\u001b[38;5;241m.\u001b[39mset_dates_and_secs()\n\u001b[0;32m     50\u001b[0m fac\u001b[38;5;241m.\u001b[39mset_dates_and_secs(\u001b[38;5;28mself\u001b[39m\u001b[38;5;241m.\u001b[39mfeatures\u001b[38;5;241m.\u001b[39mget_dates(), \u001b[38;5;28mself\u001b[39m\u001b[38;5;241m.\u001b[39mfeatures\u001b[38;5;241m.\u001b[39mget_secs())\n\u001b[1;32m---> 51\u001b[0m \u001b[43mfac\u001b[49m\u001b[38;5;241;43m.\u001b[39;49m\u001b[43msave\u001b[49m\u001b[43m(\u001b[49m\u001b[38;5;28;43mself\u001b[39;49m\u001b[38;5;241;43m.\u001b[39;49m\u001b[43mfactor_table\u001b[49m\u001b[43m)\u001b[49m\n",
      "File \u001b[1;32md:\\DolphinDB_script\\factor_cal\\example\\..\\factor_cal\\factor\\basic_factor.py:70\u001b[0m, in \u001b[0;36mBasicFactor.save\u001b[1;34m(self, table)\u001b[0m\n\u001b[0;32m     68\u001b[0m \u001b[38;5;28;01mdef\u001b[39;00m \u001b[38;5;21msave\u001b[39m(\u001b[38;5;28mself\u001b[39m, table: FactorTable):\n\u001b[0;32m     69\u001b[0m     \u001b[38;5;28mself\u001b[39m\u001b[38;5;241m.\u001b[39mprepare_data()\n\u001b[1;32m---> 70\u001b[0m     \u001b[43mtable\u001b[49m\u001b[38;5;241;43m.\u001b[39;49m\u001b[43msave\u001b[49m\u001b[43m(\u001b[49m\u001b[38;5;28;43mself\u001b[39;49m\u001b[38;5;241;43m.\u001b[39;49m\u001b[43moutput_data\u001b[49m\u001b[43m)\u001b[49m\n",
      "File \u001b[1;32md:\\DolphinDB_script\\factor_cal\\example\\..\\factor_cal\\table\\ddb_table.py:84\u001b[0m, in \u001b[0;36mSecLevelFacTable.save\u001b[1;34m(self, data)\u001b[0m\n\u001b[0;32m     83\u001b[0m \u001b[38;5;28;01mdef\u001b[39;00m \u001b[38;5;21msave\u001b[39m(\u001b[38;5;28mself\u001b[39m, data):\n\u001b[1;32m---> 84\u001b[0m     \u001b[38;5;28;43mself\u001b[39;49m\u001b[38;5;241;43m.\u001b[39;49m\u001b[43mget_tb\u001b[49m\u001b[43m(\u001b[49m\u001b[43m)\u001b[49m\u001b[38;5;241;43m.\u001b[39;49m\u001b[43mappend\u001b[49m\u001b[43m(\u001b[49m\u001b[43mdata\u001b[49m\u001b[43m)\u001b[49m\n",
      "File \u001b[1;32mc:\\ProgramData\\anaconda3\\envs\\ddbEnv\\lib\\site-packages\\dolphindb\\table.py:1085\u001b[0m, in \u001b[0;36mTable.append\u001b[1;34m(self, table)\u001b[0m\n\u001b[0;32m   1073\u001b[0m \u001b[38;5;250m\u001b[39m\u001b[38;5;124;03m\"\"\"Append data to Table and execute at once.\u001b[39;00m\n\u001b[0;32m   1074\u001b[0m \n\u001b[0;32m   1075\u001b[0m \u001b[38;5;124;03mArgs:\u001b[39;00m\n\u001b[1;32m   (...)\u001b[0m\n\u001b[0;32m   1082\u001b[0m \u001b[38;5;124;03m    The data in the DolphinDB server will be modified immediately.\u001b[39;00m\n\u001b[0;32m   1083\u001b[0m \u001b[38;5;124;03m\"\"\"\u001b[39;00m\n\u001b[0;32m   1084\u001b[0m \u001b[38;5;28;01mif\u001b[39;00m \u001b[38;5;129;01mnot\u001b[39;00m \u001b[38;5;28misinstance\u001b[39m(table, Table):\n\u001b[1;32m-> 1085\u001b[0m     \u001b[38;5;28;01mraise\u001b[39;00m \u001b[38;5;167;01mRuntimeError\u001b[39;00m(\u001b[38;5;124m\"\u001b[39m\u001b[38;5;124mOnly DolphinDB Table object is accepted\u001b[39m\u001b[38;5;124m\"\u001b[39m)\n\u001b[0;32m   1087\u001b[0m runstr \u001b[38;5;241m=\u001b[39m \u001b[38;5;124m\"\u001b[39m\u001b[38;5;132;01m%s\u001b[39;00m\u001b[38;5;124m.append!(\u001b[39m\u001b[38;5;132;01m%s\u001b[39;00m\u001b[38;5;124m)\u001b[39m\u001b[38;5;124m\"\u001b[39m \u001b[38;5;241m%\u001b[39m (\u001b[38;5;28mself\u001b[39m\u001b[38;5;241m.\u001b[39mtableName(), table\u001b[38;5;241m.\u001b[39mtableName())\n\u001b[0;32m   1088\u001b[0m \u001b[38;5;28mself\u001b[39m\u001b[38;5;241m.\u001b[39m__session\u001b[38;5;241m.\u001b[39mrun(runstr)\n",
      "\u001b[1;31mRuntimeError\u001b[0m: Only DolphinDB Table object is accepted"
     ]
    }
   ],
   "source": [
    "factors.process()"
   ]
  },
  {
   "cell_type": "code",
   "execution_count": 8,
   "metadata": {},
   "outputs": [
    {
     "name": "stdout",
     "output_type": "stream",
     "text": [
      "before 一共占用97.74MB\n",
      "Loading [feature]open from DolphinDB server\n",
      "after 一共占用98.07MB\n"
     ]
    }
   ],
   "source": [
    "tl.show_memory(\"before\")\n",
    "data = features.get_feature('open')\n",
    "tl.show_memory(\"after\")"
   ]
  },
  {
   "cell_type": "code",
   "execution_count": 4,
   "metadata": {},
   "outputs": [
    {
     "name": "stdout",
     "output_type": "stream",
     "text": [
      "Loading [feature]en_buy_n from DolphinDB server\n",
      "after 一共占用82.39MB\n"
     ]
    }
   ],
   "source": [
    "data2 = features.get_feature('en_buy_n')\n",
    "tl.show_memory(\"after\")"
   ]
  },
  {
   "cell_type": "code",
   "execution_count": 8,
   "metadata": {},
   "outputs": [
    {
     "name": "stdout",
     "output_type": "stream",
     "text": [
      "after 一共占用83.28MB\n"
     ]
    }
   ],
   "source": [
    "data3 = features.get_feature('close')\n",
    "tl.show_memory(\"after\")"
   ]
  },
  {
   "cell_type": "code",
   "execution_count": 10,
   "metadata": {},
   "outputs": [
    {
     "data": {
      "text/plain": [
       "numpy.ndarray"
      ]
     },
     "execution_count": 10,
     "metadata": {},
     "output_type": "execute_result"
    }
   ],
   "source": [
    "type(data)"
   ]
  },
  {
   "cell_type": "code",
   "execution_count": 5,
   "metadata": {},
   "outputs": [],
   "source": [
    "def ret(x:np.ndarray, shift:int=1) -> np.ndarray:\n",
    "    tl.show_memory(\"1\")\n",
    "    x_shift = np.roll(x, shift, axis=0)\n",
    "    tl.show_memory(\"2\")\n",
    "    x_shift[0:shift] = np.nan\n",
    "    tl.show_memory(\"3\")\n",
    "    return x / x_shift - 1"
   ]
  },
  {
   "cell_type": "code",
   "execution_count": 9,
   "metadata": {},
   "outputs": [
    {
     "name": "stdout",
     "output_type": "stream",
     "text": [
      "before 一共占用98.07MB\n"
     ]
    }
   ],
   "source": [
    "tl.show_memory(\"before\")"
   ]
  },
  {
   "cell_type": "code",
   "execution_count": 11,
   "metadata": {},
   "outputs": [
    {
     "name": "stdout",
     "output_type": "stream",
     "text": [
      "1 一共占用100.37MB\n",
      "2 一共占用100.88MB\n",
      "3 一共占用101.15MB\n"
     ]
    }
   ],
   "source": [
    "ret(data, 2)\n",
    "tl.show_memory(\"after\")"
   ]
  },
  {
   "cell_type": "code",
   "execution_count": 1,
   "metadata": {},
   "outputs": [],
   "source": [
    "class Test:\n",
    "    def __init__(self, config):\n",
    "        self.config = config"
   ]
  },
  {
   "cell_type": "code",
   "execution_count": 2,
   "metadata": {},
   "outputs": [],
   "source": [
    "config = {\"haha\": 1, \"xixi\": 2}\n",
    "a = Test(config)"
   ]
  },
  {
   "cell_type": "code",
   "execution_count": 7,
   "metadata": {},
   "outputs": [],
   "source": [
    "from factor_cal.factor.factor_func import rolling_correlation"
   ]
  },
  {
   "cell_type": "code",
   "execution_count": 9,
   "metadata": {},
   "outputs": [
    {
     "name": "stdout",
     "output_type": "stream",
     "text": [
      "[[        nan         nan         nan]\n",
      " [        nan         nan         nan]\n",
      " [        nan         nan         nan]\n",
      " [        nan         nan         nan]\n",
      " [-0.06415948 -0.77119084  0.47933507]\n",
      " [-0.1388156  -0.56483018  0.7894413 ]\n",
      " [ 0.39608284 -0.24158028  0.68497714]\n",
      " [ 0.28345174  0.08111292  0.6417023 ]\n",
      " [ 0.1897983   0.08529828 -0.10257587]\n",
      " [-0.37552798  0.73213619 -0.70018968]\n",
      " [-0.30786228  0.3865624  -0.83415388]\n",
      " [ 0.02849382 -0.10486703 -0.80734297]\n",
      " [ 0.45480929 -0.4341194  -0.29579527]\n",
      " [ 0.51408755 -0.44365239 -0.17112812]\n",
      " [ 0.66978688 -0.49163883  0.0794473 ]\n",
      " [ 0.81410937  0.22983714  0.25877051]\n",
      " [ 0.60351261  0.84221541  0.30902703]\n",
      " [ 0.44510123  0.90098583  0.29449704]\n",
      " [ 0.32868554  0.84844318  0.38109441]\n",
      " [ 0.4564897   0.63053386 -0.54008907]]\n"
     ]
    }
   ],
   "source": [
    "import numpy as np\n",
    "# 示例数据\n",
    "X = np.random.rand(20, 3)\n",
    "Y = np.random.rand(20, 3)\n",
    "window_size = 5\n",
    "\n",
    "# 计算滚动相关系数\n",
    "result = rolling_correlation(X, Y, window_size)\n",
    "print(result)"
   ]
  },
  {
   "cell_type": "code",
   "execution_count": 18,
   "metadata": {},
   "outputs": [
    {
     "data": {
      "text/plain": [
       "numpy.float64"
      ]
     },
     "execution_count": 18,
     "metadata": {},
     "output_type": "execute_result"
    }
   ],
   "source": [
    "xc, yc = X[:5, 0], Y[:5, 0]\n",
    "xc = [1, 2, 3, 4, 5]\n",
    "yc = [5, 4, 3, 2, 1]\n",
    "# np.correlate(X[:5, 0], Y[:5, 0]), np.corrcoef(X[:5, 0], Y[:5, 0])\n",
    "\n",
    "from scipy.stats import pearsonr, spearmanr\n",
    "pearsonr(xc, yc), \n",
    "type(spearmanr(xc, yc)[0])"
   ]
  },
  {
   "cell_type": "code",
   "execution_count": 13,
   "metadata": {},
   "outputs": [],
   "source": [
    "t = s.loadTable(tableName='t_trade_info')\n",
    "a = t.exec('open').pivotby('trade_time', 'security_code')"
   ]
  },
  {
   "cell_type": "code",
   "execution_count": 17,
   "metadata": {},
   "outputs": [],
   "source": [
    "b = a.toDF()"
   ]
  },
  {
   "cell_type": "code",
   "execution_count": null,
   "metadata": {},
   "outputs": [],
   "source": [
    "tmp_feat = config['features'][0]\n",
    "ddb_name = tmp_feat['ddb_name']\n",
    "tb_feat = tmp_feat['tb_features']\n",
    "\n",
    "tb_name = 'trade_info'\n",
    "time_col = tb_feat[tb_name]['time_col']\n",
    "sec_col = tb_feat[tb_name]['sec_col']"
   ]
  },
  {
   "cell_type": "code",
   "execution_count": null,
   "metadata": {},
   "outputs": [],
   "source": [
    "tables = fe.DDB_FeatTable(ddb_name, tb_name, time_col, sec_col)"
   ]
  },
  {
   "cell_type": "code",
   "execution_count": null,
   "metadata": {},
   "outputs": [],
   "source": [
    "tables.get_table(config['start_time'], config['end_time'], ('000002', '000004'))"
   ]
  },
  {
   "cell_type": "code",
   "execution_count": null,
   "metadata": {},
   "outputs": [],
   "source": [
    "a = {\"a\": 2}\n",
    "c = a.get('b', None)\n",
    "c is None"
   ]
  },
  {
   "cell_type": "code",
   "execution_count": null,
   "metadata": {},
   "outputs": [],
   "source": [
    "s.run('select * from t_trade_info')"
   ]
  },
  {
   "cell_type": "code",
   "execution_count": null,
   "metadata": {},
   "outputs": [],
   "source": [
    "ddb_name, tb_feat"
   ]
  },
  {
   "cell_type": "code",
   "execution_count": null,
   "metadata": {},
   "outputs": [],
   "source": [
    "print(ddb_name)\n",
    "# create a dictionary to store features\n",
    "index = 0\n",
    "feat_dict = {}\n",
    "for tb in tb_feat.keys():\n",
    "    print(\"Table Name: \", tb)\n",
    "    ddb_tb = s.loadTable(dbPath=ddb_name, tableName=tb)\n",
    "    \n",
    "    features = tb_feat[tb]['feat_cols']\n",
    "    sec_col = tb_feat[tb]['sec_col']\n",
    "    time_col = tb_feat[tb]['time_col']\n",
    "    print(\"Features contain: \", list(features.keys()))\n",
    "\n",
    "    # read features from DolphinDB in a panel format\n",
    "    for feat_nkname, feat_colname in features.items():\n",
    "        index += 1\n",
    "        if (index > 1):\n",
    "            break\n",
    "        print(\"Feature Name: \", feat_nkname, flush=True)\n",
    "        feat_df = ddb_tb.select(feat_colname).pivotby(time_col, sec_col).toDF()\n",
    "        feat_dict[feat_nkname] = feat_df\n",
    "        # print(feat_df.head(1), flush=True)\n"
   ]
  },
  {
   "cell_type": "code",
   "execution_count": null,
   "metadata": {},
   "outputs": [],
   "source": [
    "print(ddb_name)\n",
    "# create a dictionary to store features\n",
    "index = 0\n",
    "feat_dict = {}\n",
    "for tb in tb_feat.keys():\n",
    "    print(\"Table Name: \", tb)\n",
    "    ddb_tb = s.loadTable(dbPath=ddb_name, tableName=tb)\n",
    "    \n",
    "    features = tb_feat[tb]['feat_cols']\n",
    "    sec_col = tb_feat[tb]['sec_col']\n",
    "    time_col = tb_feat[tb]['time_col']\n",
    "    print(\"Features contain: \", list(features.keys()))\n",
    "\n",
    "    # read features from DolphinDB in a panel format\n",
    "    for feat_nkname, feat_colname in features.items():\n",
    "        index += 1\n",
    "        if (index > 2):\n",
    "            break\n",
    "        print(\"Feature Name: \", feat_nkname, flush=True)\n",
    "        feat_df = ddb_tb.select(feat_colname).pivotby(time_col, sec_col).toDF()\n",
    "        feat_dict[feat_nkname] = feat_df\n",
    "        # print(feat_df.head(1), flush=True)\n"
   ]
  },
  {
   "cell_type": "code",
   "execution_count": null,
   "metadata": {},
   "outputs": [],
   "source": [
    "tb = 'trade_info'\n",
    "s.run(f'select close from loadTable(\"{ddb_name}\", \"{tb}\") pivot by {time_col}, {sec_col}')"
   ]
  },
  {
   "cell_type": "code",
   "execution_count": null,
   "metadata": {},
   "outputs": [],
   "source": [
    "# import sys\n",
    "# print(sys.getsizeof(feat_dict['open']) / 1024) # KB\n",
    "# print(sys.getsizeof(feat_dict['open']) / 1024 / 1024) # MB\n",
    "# print(sys.getsizeof(feat_dict['open']) / 1024 / 1024 / 1024) # GB"
   ]
  },
  {
   "cell_type": "code",
   "execution_count": null,
   "metadata": {},
   "outputs": [],
   "source": [
    "f'select close from loadTable({ddb_name}, {tb}) pivot by {time_col}, {sec_col}'"
   ]
  },
  {
   "cell_type": "code",
   "execution_count": null,
   "metadata": {},
   "outputs": [],
   "source": [
    "ddb_name, tb"
   ]
  },
  {
   "cell_type": "code",
   "execution_count": null,
   "metadata": {},
   "outputs": [],
   "source": [
    "a = s.loadTable(dbPath=ddb_name, tableName=tb)"
   ]
  },
  {
   "cell_type": "code",
   "execution_count": null,
   "metadata": {},
   "outputs": [],
   "source": [
    "b = a.select('close').where('trade_time < 2023-04-20T09:30:00.000')"
   ]
  },
  {
   "cell_type": "code",
   "execution_count": null,
   "metadata": {},
   "outputs": [],
   "source": [
    "trade = s.loadTableBySQL(tableName=\"trade_info\", dbPath=\"dfs://CROSS_SECTION_6sec\", sql=\"select * from trade_info where second(trade_time)<09:50:00\", tableAliasName='t1')\n"
   ]
  },
  {
   "cell_type": "code",
   "execution_count": null,
   "metadata": {},
   "outputs": [],
   "source": [
    "trade"
   ]
  },
  {
   "cell_type": "code",
   "execution_count": null,
   "metadata": {},
   "outputs": [],
   "source": [
    "import ddb_utils as du"
   ]
  },
  {
   "cell_type": "code",
   "execution_count": null,
   "metadata": {},
   "outputs": [],
   "source": [
    "s = du.DDBSessionSingleton().session"
   ]
  },
  {
   "cell_type": "code",
   "execution_count": null,
   "metadata": {},
   "outputs": [],
   "source": [
    "table = s.run('select * from loadTable(\"dfs://CROSS_SECTION_6sec\", \"trade_info\") where second(trade_time) between 09:30:06 and 09:30:18 limit 10')"
   ]
  },
  {
   "cell_type": "code",
   "execution_count": null,
   "metadata": {},
   "outputs": [],
   "source": [
    "a = s.loadTable(\"trade_info\", \"dfs://CROSS_SECTION_6sec\")\n",
    "b = a.select(\"*\").where(\"second(trade_time) between 09:30:06 and 09:30:18\").showSQL()"
   ]
  },
  {
   "cell_type": "code",
   "execution_count": null,
   "metadata": {},
   "outputs": [],
   "source": [
    "s.run('tmp_b = ' + b)"
   ]
  },
  {
   "cell_type": "code",
   "execution_count": null,
   "metadata": {},
   "outputs": [],
   "source": [
    "s.run('objs(true)')"
   ]
  },
  {
   "cell_type": "code",
   "execution_count": null,
   "metadata": {},
   "outputs": [],
   "source": []
  }
 ],
 "metadata": {
  "kernelspec": {
   "display_name": "ddbEnv",
   "language": "python",
   "name": "python3"
  },
  "language_info": {
   "codemirror_mode": {
    "name": "ipython",
    "version": 3
   },
   "file_extension": ".py",
   "mimetype": "text/x-python",
   "name": "python",
   "nbconvert_exporter": "python",
   "pygments_lexer": "ipython3",
   "version": "3.8.19"
  }
 },
 "nbformat": 4,
 "nbformat_minor": 2
}

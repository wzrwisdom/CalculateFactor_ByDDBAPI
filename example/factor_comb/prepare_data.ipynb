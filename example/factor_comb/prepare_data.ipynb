{
 "cells": [
  {
   "cell_type": "code",
   "execution_count": 1,
   "metadata": {},
   "outputs": [],
   "source": [
    "import pandas as pd\n",
    "import numpy as np\n",
    "import sys\n",
    "sys.path.insert(0, \"../\")\n",
    "import alphalens\n",
    "\n",
    "\n",
    "from factor_cal.config_loader import basic_config as cfg\n",
    "from factor_cal.table.ddb_table import PriceTable, SecLevelFacTable\n",
    "from factor_cal.utils import ddb_utils as du\n"
   ]
  },
  {
   "cell_type": "code",
   "execution_count": 2,
   "metadata": {},
   "outputs": [],
   "source": [
    "# read config file\n",
    "config = cfg.BasicConfig('config/config.yml')\n",
    "# obtain the ddb session\n",
    "s = du.DDBSessionSingleton().session\n",
    "\n",
    "factor_names = []\n",
    "for facType in config['factors']:\n",
    "    factor_names += list(config['factors'][facType].keys())"
   ]
  },
  {
   "cell_type": "code",
   "execution_count": 5,
   "metadata": {},
   "outputs": [
    {
     "data": {
      "text/plain": [
       "61"
      ]
     },
     "execution_count": 5,
     "metadata": {},
     "output_type": "execute_result"
    }
   ],
   "source": [
    "factor_names = list(set(factor_names))\n",
    "len(factor_names)"
   ]
  },
  {
   "cell_type": "code",
   "execution_count": 9,
   "metadata": {},
   "outputs": [],
   "source": [
    "excluded_factors = ['close_ret']\n",
    "factor_names = [x for x in factor_names if x not in excluded_factors]\n",
    "\n",
    "# For test\n",
    "\n",
    "factor_names = ['close_ret', 'pv_corr']"
   ]
  },
  {
   "cell_type": "code",
   "execution_count": 46,
   "metadata": {},
   "outputs": [],
   "source": [
    "start_date = '2023.09.22'\n",
    "end_date = '2024.02.20'\n",
    "start_time = '09:45:00'\n",
    "end_time = '14:45:00'\n",
    "dates = pd.date_range(start_date, end_date)\n",
    "date = dates[0].strftime('%Y.%m.%d')\n",
    "factor_name = factor_names[0]\n",
    "fac_tb = SecLevelFacTable(config['factor_dbPath'], config['factor_tbName'])\n",
    "fac = fac_tb.load_factor(factor_name, date, start_time, end_time, sec_list=None)\n",
    "fac_df = s.loadTable(tableName=fac).toDF()"
   ]
  },
  {
   "cell_type": "code",
   "execution_count": 47,
   "metadata": {},
   "outputs": [],
   "source": [
    "fac_df.rename(columns={'value': factor_name}, inplace=True)\n",
    "fac_df.drop('factorname', axis=1, inplace=True)"
   ]
  },
  {
   "cell_type": "code",
   "execution_count": 21,
   "metadata": {},
   "outputs": [],
   "source": [
    "factor_name = factor_names[1]\n",
    "fac_tb = SecLevelFacTable(config['factor_dbPath'], config['factor_tbName'])\n",
    "fac = fac_tb.load_factor(factor_name, date, config['start_time'], config['end_time'], sec_list=None)\n",
    "fac_df1 = s.loadTable(tableName=fac).toDF()"
   ]
  },
  {
   "cell_type": "code",
   "execution_count": 22,
   "metadata": {},
   "outputs": [
    {
     "data": {
      "text/html": [
       "<div>\n",
       "<style scoped>\n",
       "    .dataframe tbody tr th:only-of-type {\n",
       "        vertical-align: middle;\n",
       "    }\n",
       "\n",
       "    .dataframe tbody tr th {\n",
       "        vertical-align: top;\n",
       "    }\n",
       "\n",
       "    .dataframe thead th {\n",
       "        text-align: right;\n",
       "    }\n",
       "</style>\n",
       "<table border=\"1\" class=\"dataframe\">\n",
       "  <thead>\n",
       "    <tr style=\"text-align: right;\">\n",
       "      <th></th>\n",
       "      <th>tradetime</th>\n",
       "      <th>securityid</th>\n",
       "      <th>pv_corr</th>\n",
       "    </tr>\n",
       "  </thead>\n",
       "  <tbody>\n",
       "    <tr>\n",
       "      <th>0</th>\n",
       "      <td>2023-09-22 09:30:00</td>\n",
       "      <td>000001.SZ</td>\n",
       "      <td>NaN</td>\n",
       "    </tr>\n",
       "    <tr>\n",
       "      <th>1</th>\n",
       "      <td>2023-09-22 09:30:03</td>\n",
       "      <td>000001.SZ</td>\n",
       "      <td>NaN</td>\n",
       "    </tr>\n",
       "    <tr>\n",
       "      <th>2</th>\n",
       "      <td>2023-09-22 09:30:06</td>\n",
       "      <td>000001.SZ</td>\n",
       "      <td>NaN</td>\n",
       "    </tr>\n",
       "    <tr>\n",
       "      <th>3</th>\n",
       "      <td>2023-09-22 09:30:09</td>\n",
       "      <td>000001.SZ</td>\n",
       "      <td>NaN</td>\n",
       "    </tr>\n",
       "    <tr>\n",
       "      <th>4</th>\n",
       "      <td>2023-09-22 09:30:12</td>\n",
       "      <td>000001.SZ</td>\n",
       "      <td>NaN</td>\n",
       "    </tr>\n",
       "  </tbody>\n",
       "</table>\n",
       "</div>"
      ],
      "text/plain": [
       "            tradetime securityid  pv_corr\n",
       "0 2023-09-22 09:30:00  000001.SZ      NaN\n",
       "1 2023-09-22 09:30:03  000001.SZ      NaN\n",
       "2 2023-09-22 09:30:06  000001.SZ      NaN\n",
       "3 2023-09-22 09:30:09  000001.SZ      NaN\n",
       "4 2023-09-22 09:30:12  000001.SZ      NaN"
      ]
     },
     "execution_count": 22,
     "metadata": {},
     "output_type": "execute_result"
    }
   ],
   "source": [
    "fac_df1.rename(columns={'value': factor_name}, inplace=True)\n",
    "fac_df1.drop('factorname', axis=1, inplace=True)\n",
    "fac_df1.head(5)"
   ]
  },
  {
   "cell_type": "code",
   "execution_count": 23,
   "metadata": {},
   "outputs": [],
   "source": [
    "res = fac_df.merge(fac_df1, how='outer', on=['tradetime', 'securityid'])"
   ]
  },
  {
   "cell_type": "code",
   "execution_count": 24,
   "metadata": {},
   "outputs": [
    {
     "data": {
      "text/html": [
       "<div>\n",
       "<style scoped>\n",
       "    .dataframe tbody tr th:only-of-type {\n",
       "        vertical-align: middle;\n",
       "    }\n",
       "\n",
       "    .dataframe tbody tr th {\n",
       "        vertical-align: top;\n",
       "    }\n",
       "\n",
       "    .dataframe thead th {\n",
       "        text-align: right;\n",
       "    }\n",
       "</style>\n",
       "<table border=\"1\" class=\"dataframe\">\n",
       "  <thead>\n",
       "    <tr style=\"text-align: right;\">\n",
       "      <th></th>\n",
       "      <th>tradetime</th>\n",
       "      <th>securityid</th>\n",
       "      <th>close_ret</th>\n",
       "      <th>pv_corr</th>\n",
       "    </tr>\n",
       "  </thead>\n",
       "  <tbody>\n",
       "    <tr>\n",
       "      <th>0</th>\n",
       "      <td>2023-09-22 09:30:00</td>\n",
       "      <td>000001.SZ</td>\n",
       "      <td>NaN</td>\n",
       "      <td>NaN</td>\n",
       "    </tr>\n",
       "    <tr>\n",
       "      <th>1</th>\n",
       "      <td>2023-09-22 09:30:03</td>\n",
       "      <td>000001.SZ</td>\n",
       "      <td>NaN</td>\n",
       "      <td>NaN</td>\n",
       "    </tr>\n",
       "    <tr>\n",
       "      <th>2</th>\n",
       "      <td>2023-09-22 09:30:06</td>\n",
       "      <td>000001.SZ</td>\n",
       "      <td>0.000906</td>\n",
       "      <td>NaN</td>\n",
       "    </tr>\n",
       "    <tr>\n",
       "      <th>3</th>\n",
       "      <td>2023-09-22 09:30:09</td>\n",
       "      <td>000001.SZ</td>\n",
       "      <td>0.001810</td>\n",
       "      <td>NaN</td>\n",
       "    </tr>\n",
       "    <tr>\n",
       "      <th>4</th>\n",
       "      <td>2023-09-22 09:30:12</td>\n",
       "      <td>000001.SZ</td>\n",
       "      <td>-0.000903</td>\n",
       "      <td>NaN</td>\n",
       "    </tr>\n",
       "  </tbody>\n",
       "</table>\n",
       "</div>"
      ],
      "text/plain": [
       "            tradetime securityid  close_ret  pv_corr\n",
       "0 2023-09-22 09:30:00  000001.SZ        NaN      NaN\n",
       "1 2023-09-22 09:30:03  000001.SZ        NaN      NaN\n",
       "2 2023-09-22 09:30:06  000001.SZ   0.000906      NaN\n",
       "3 2023-09-22 09:30:09  000001.SZ   0.001810      NaN\n",
       "4 2023-09-22 09:30:12  000001.SZ  -0.000903      NaN"
      ]
     },
     "execution_count": 24,
     "metadata": {},
     "output_type": "execute_result"
    }
   ],
   "source": [
    "res.head(5)"
   ]
  },
  {
   "cell_type": "code",
   "execution_count": 48,
   "metadata": {},
   "outputs": [],
   "source": [
    "price_info = config['price_info']\n",
    "pc_tb = PriceTable(price_info['price_dbPath'], price_info['price_tbName'], price_info['time_col'], price_info['sec_col'], price_info['price_cols'])\n",
    "price = pc_tb.load_price(date, config['start_time'], config['end_time'], sec_list=None)\n",
    "price_df = s.loadTable(tableName=price).toDF()\n",
    "price_df = price_df.set_index(['tradetime', 'securityid'])\n",
    "prices = price_df['close'].unstack()"
   ]
  },
  {
   "cell_type": "code",
   "execution_count": 49,
   "metadata": {},
   "outputs": [],
   "source": [
    "fac_df.set_index(['tradetime', 'securityid'], inplace=True)\n",
    "fac_df = fac_df.sort_index(level=0)"
   ]
  },
  {
   "cell_type": "code",
   "execution_count": 50,
   "metadata": {},
   "outputs": [],
   "source": [
    "ret_df = alphalens.utils.compute_forward_returns(fac_df, prices, periods=[20, 60, 100], filter_zscore=20, cumulative_returns=True)"
   ]
  },
  {
   "cell_type": "code",
   "execution_count": 40,
   "metadata": {},
   "outputs": [],
   "source": [
    "ret_df.index.set_names(['tradetime', 'securityid'], inplace=True)\n",
    "ret_df.reset_index(inplace=True)"
   ]
  },
  {
   "cell_type": "code",
   "execution_count": 52,
   "metadata": {},
   "outputs": [
    {
     "data": {
      "text/html": [
       "<div>\n",
       "<style scoped>\n",
       "    .dataframe tbody tr th:only-of-type {\n",
       "        vertical-align: middle;\n",
       "    }\n",
       "\n",
       "    .dataframe tbody tr th {\n",
       "        vertical-align: top;\n",
       "    }\n",
       "\n",
       "    .dataframe thead th {\n",
       "        text-align: right;\n",
       "    }\n",
       "</style>\n",
       "<table border=\"1\" class=\"dataframe\">\n",
       "  <thead>\n",
       "    <tr style=\"text-align: right;\">\n",
       "      <th></th>\n",
       "      <th></th>\n",
       "      <th>1m</th>\n",
       "      <th>3m</th>\n",
       "      <th>5m</th>\n",
       "    </tr>\n",
       "    <tr>\n",
       "      <th>date</th>\n",
       "      <th>asset</th>\n",
       "      <th></th>\n",
       "      <th></th>\n",
       "      <th></th>\n",
       "    </tr>\n",
       "  </thead>\n",
       "  <tbody>\n",
       "    <tr>\n",
       "      <th rowspan=\"5\" valign=\"top\">2023-09-22 09:45:00</th>\n",
       "      <th>000001.SZ</th>\n",
       "      <td>-0.000904</td>\n",
       "      <td>-0.001808</td>\n",
       "      <td>0.000000</td>\n",
       "    </tr>\n",
       "    <tr>\n",
       "      <th>000002.SZ</th>\n",
       "      <td>-0.000755</td>\n",
       "      <td>0.000000</td>\n",
       "      <td>0.000000</td>\n",
       "    </tr>\n",
       "    <tr>\n",
       "      <th>000004.SZ</th>\n",
       "      <td>0.005611</td>\n",
       "      <td>0.000000</td>\n",
       "      <td>-0.002494</td>\n",
       "    </tr>\n",
       "    <tr>\n",
       "      <th>000005.SZ</th>\n",
       "      <td>0.006803</td>\n",
       "      <td>0.000000</td>\n",
       "      <td>0.006803</td>\n",
       "    </tr>\n",
       "    <tr>\n",
       "      <th>000006.SZ</th>\n",
       "      <td>-0.002174</td>\n",
       "      <td>-0.002174</td>\n",
       "      <td>0.002174</td>\n",
       "    </tr>\n",
       "    <tr>\n",
       "      <th>...</th>\n",
       "      <th>...</th>\n",
       "      <td>...</td>\n",
       "      <td>...</td>\n",
       "      <td>...</td>\n",
       "    </tr>\n",
       "    <tr>\n",
       "      <th rowspan=\"5\" valign=\"top\">2023-09-22 14:45:00</th>\n",
       "      <th>688799.SH</th>\n",
       "      <td>-0.000492</td>\n",
       "      <td>-0.009109</td>\n",
       "      <td>-0.008616</td>\n",
       "    </tr>\n",
       "    <tr>\n",
       "      <th>688800.SH</th>\n",
       "      <td>-0.002284</td>\n",
       "      <td>-0.000507</td>\n",
       "      <td>-0.001269</td>\n",
       "    </tr>\n",
       "    <tr>\n",
       "      <th>688819.SH</th>\n",
       "      <td>0.000287</td>\n",
       "      <td>0.001721</td>\n",
       "      <td>0.001721</td>\n",
       "    </tr>\n",
       "    <tr>\n",
       "      <th>688981.SH</th>\n",
       "      <td>-0.000195</td>\n",
       "      <td>0.000000</td>\n",
       "      <td>0.000586</td>\n",
       "    </tr>\n",
       "    <tr>\n",
       "      <th>689009.SH</th>\n",
       "      <td>-0.001425</td>\n",
       "      <td>-0.000570</td>\n",
       "      <td>-0.000285</td>\n",
       "    </tr>\n",
       "  </tbody>\n",
       "</table>\n",
       "<p>21257918 rows × 3 columns</p>\n",
       "</div>"
      ],
      "text/plain": [
       "                                     1m        3m        5m\n",
       "date                asset                                  \n",
       "2023-09-22 09:45:00 000001.SZ -0.000904 -0.001808  0.000000\n",
       "                    000002.SZ -0.000755  0.000000  0.000000\n",
       "                    000004.SZ  0.005611  0.000000 -0.002494\n",
       "                    000005.SZ  0.006803  0.000000  0.006803\n",
       "                    000006.SZ -0.002174 -0.002174  0.002174\n",
       "...                                 ...       ...       ...\n",
       "2023-09-22 14:45:00 688799.SH -0.000492 -0.009109 -0.008616\n",
       "                    688800.SH -0.002284 -0.000507 -0.001269\n",
       "                    688819.SH  0.000287  0.001721  0.001721\n",
       "                    688981.SH -0.000195  0.000000  0.000586\n",
       "                    689009.SH -0.001425 -0.000570 -0.000285\n",
       "\n",
       "[21257918 rows x 3 columns]"
      ]
     },
     "execution_count": 52,
     "metadata": {},
     "output_type": "execute_result"
    }
   ],
   "source": [
    "ret_df[~(ret_df.isna().sum(axis=1) == 3)]"
   ]
  },
  {
   "cell_type": "code",
   "execution_count": 54,
   "metadata": {},
   "outputs": [],
   "source": [
    "import pandas as pd\n",
    "date = '2023.09.22'\n",
    "df = pd.read_pickle(f'/home/wangzirui/workspace/data/fac_ret_{date}.pkl')"
   ]
  },
  {
   "cell_type": "code",
   "execution_count": 55,
   "metadata": {},
   "outputs": [
    {
     "data": {
      "text/html": [
       "<div>\n",
       "<style scoped>\n",
       "    .dataframe tbody tr th:only-of-type {\n",
       "        vertical-align: middle;\n",
       "    }\n",
       "\n",
       "    .dataframe tbody tr th {\n",
       "        vertical-align: top;\n",
       "    }\n",
       "\n",
       "    .dataframe thead th {\n",
       "        text-align: right;\n",
       "    }\n",
       "</style>\n",
       "<table border=\"1\" class=\"dataframe\">\n",
       "  <thead>\n",
       "    <tr style=\"text-align: right;\">\n",
       "      <th></th>\n",
       "      <th>tradetime</th>\n",
       "      <th>securityid</th>\n",
       "      <th>1m</th>\n",
       "      <th>3m</th>\n",
       "      <th>5m</th>\n",
       "      <th>pv_corr</th>\n",
       "      <th>td_pv_corr_5min</th>\n",
       "    </tr>\n",
       "  </thead>\n",
       "  <tbody>\n",
       "    <tr>\n",
       "      <th>0</th>\n",
       "      <td>2023-09-22 09:45:00</td>\n",
       "      <td>000001.SZ</td>\n",
       "      <td>-0.000904</td>\n",
       "      <td>-0.001808</td>\n",
       "      <td>0.000000</td>\n",
       "      <td>0.000000</td>\n",
       "      <td>-0.190327</td>\n",
       "    </tr>\n",
       "    <tr>\n",
       "      <th>1</th>\n",
       "      <td>2023-09-22 09:45:00</td>\n",
       "      <td>000002.SZ</td>\n",
       "      <td>-0.000755</td>\n",
       "      <td>0.000000</td>\n",
       "      <td>0.000000</td>\n",
       "      <td>0.278530</td>\n",
       "      <td>-0.087164</td>\n",
       "    </tr>\n",
       "    <tr>\n",
       "      <th>2</th>\n",
       "      <td>2023-09-22 09:45:00</td>\n",
       "      <td>000004.SZ</td>\n",
       "      <td>0.005611</td>\n",
       "      <td>0.000000</td>\n",
       "      <td>-0.002494</td>\n",
       "      <td>0.284619</td>\n",
       "      <td>-0.196392</td>\n",
       "    </tr>\n",
       "    <tr>\n",
       "      <th>3</th>\n",
       "      <td>2023-09-22 09:45:00</td>\n",
       "      <td>000005.SZ</td>\n",
       "      <td>0.006803</td>\n",
       "      <td>0.000000</td>\n",
       "      <td>0.006803</td>\n",
       "      <td>-0.152224</td>\n",
       "      <td>-0.001619</td>\n",
       "    </tr>\n",
       "    <tr>\n",
       "      <th>4</th>\n",
       "      <td>2023-09-22 09:45:00</td>\n",
       "      <td>000006.SZ</td>\n",
       "      <td>-0.002174</td>\n",
       "      <td>-0.002174</td>\n",
       "      <td>0.002174</td>\n",
       "      <td>NaN</td>\n",
       "      <td>0.010128</td>\n",
       "    </tr>\n",
       "  </tbody>\n",
       "</table>\n",
       "</div>"
      ],
      "text/plain": [
       "            tradetime securityid        1m        3m        5m   pv_corr  \\\n",
       "0 2023-09-22 09:45:00  000001.SZ -0.000904 -0.001808  0.000000  0.000000   \n",
       "1 2023-09-22 09:45:00  000002.SZ -0.000755  0.000000  0.000000  0.278530   \n",
       "2 2023-09-22 09:45:00  000004.SZ  0.005611  0.000000 -0.002494  0.284619   \n",
       "3 2023-09-22 09:45:00  000005.SZ  0.006803  0.000000  0.006803 -0.152224   \n",
       "4 2023-09-22 09:45:00  000006.SZ -0.002174 -0.002174  0.002174       NaN   \n",
       "\n",
       "   td_pv_corr_5min  \n",
       "0        -0.190327  \n",
       "1        -0.087164  \n",
       "2        -0.196392  \n",
       "3        -0.001619  \n",
       "4         0.010128  "
      ]
     },
     "execution_count": 55,
     "metadata": {},
     "output_type": "execute_result"
    }
   ],
   "source": [
    "df.head(5)"
   ]
  },
  {
   "cell_type": "code",
   "execution_count": null,
   "metadata": {},
   "outputs": [],
   "source": []
  }
 ],
 "metadata": {
  "kernelspec": {
   "display_name": "py38",
   "language": "python",
   "name": "python3"
  },
  "language_info": {
   "codemirror_mode": {
    "name": "ipython",
    "version": 3
   },
   "file_extension": ".py",
   "mimetype": "text/x-python",
   "name": "python",
   "nbconvert_exporter": "python",
   "pygments_lexer": "ipython3",
   "version": "3.8.19"
  }
 },
 "nbformat": 4,
 "nbformat_minor": 2
}

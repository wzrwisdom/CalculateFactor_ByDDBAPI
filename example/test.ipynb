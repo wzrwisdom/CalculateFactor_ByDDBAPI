{
 "cells": [
  {
   "cell_type": "code",
   "execution_count": 11,
   "metadata": {},
   "outputs": [],
   "source": [
    "import inspect\n",
    "\n",
    "def get_args_info(func):\n",
    "    signature = inspect.signature(func)\n",
    "    parameters = signature.parameters\n",
    "    \n",
    "    args = []\n",
    "    kwargs = []\n",
    "    \n",
    "    for param in parameters.values():\n",
    "        if param.default == inspect.Parameter.empty:\n",
    "            args.append((param.name, param.annotation))\n",
    "        else:\n",
    "            kwargs.append((param.name, param.annotation, param.default))\n",
    "    \n",
    "    return {\n",
    "        'name': func.__name__,\n",
    "        'return_type': signature.return_annotation,\n",
    "        'args': args,\n",
    "        'kwargs': kwargs\n",
    "    }\n",
    "\n",
    "def add(a:int, b:int)->int:\n",
    "    return a+b\n",
    "\n",
    "result = get_args_info(add)"
   ]
  },
  {
   "cell_type": "code",
   "execution_count": 5,
   "metadata": {},
   "outputs": [],
   "source": [
    "import dolphindb as ddb\n",
    "import pandas as pd\n",
    "import numpy as np"
   ]
  },
  {
   "cell_type": "code",
   "execution_count": 15,
   "metadata": {},
   "outputs": [
    {
     "data": {
      "text/plain": [
       "array(['2023-04-01T00', '2023-04-01T01', '2023-04-01T02', '2023-04-01T03',\n",
       "       '2023-04-01T04', '2023-04-01T05', '2023-04-01T06', '2023-04-01T07',\n",
       "       '2023-04-01T08', '2023-04-01T09', '2023-04-01T10', '2023-04-01T11',\n",
       "       '2023-04-01T12'], dtype='datetime64[h]')"
      ]
     },
     "execution_count": 15,
     "metadata": {},
     "output_type": "execute_result"
    }
   ],
   "source": [
    "np.array(pd.date_range(start='2023-04-01 00:00:00', end='2023-04-01 12:00:00', freq='H'), dtype=\"datetime64[h]\")\n"
   ]
  },
  {
   "cell_type": "code",
   "execution_count": 1,
   "metadata": {},
   "outputs": [],
   "source": [
    "from factor_cal.utils.ddb_utils import s"
   ]
  },
  {
   "cell_type": "code",
   "execution_count": 4,
   "metadata": {},
   "outputs": [],
   "source": [
    "a = s.database(dbPath=\"secondLevelDBV2\")"
   ]
  },
  {
   "cell_type": "code",
   "execution_count": 10,
   "metadata": {},
   "outputs": [
    {
     "data": {
      "text/plain": [
       "array([[0.33011215, 0.4194965 , 0.06043669],\n",
       "       [0.92729206, 0.37989337, 0.66282291],\n",
       "       [0.09157675, 0.76370801, 0.71578019],\n",
       "       [0.37210802, 0.43776648, 0.7650708 ],\n",
       "       [0.83506207, 0.49147903, 0.08911886]])"
      ]
     },
     "execution_count": 10,
     "metadata": {},
     "output_type": "execute_result"
    }
   ],
   "source": [
    "arr = np.random.random((5, 3))\n",
    "arr"
   ]
  },
  {
   "cell_type": "code",
   "execution_count": 12,
   "metadata": {},
   "outputs": [
    {
     "data": {
      "text/plain": [
       "array([0.33011215, 0.92729206, 0.09157675, 0.37210802, 0.83506207,\n",
       "       0.4194965 , 0.37989337, 0.76370801, 0.43776648, 0.49147903,\n",
       "       0.06043669, 0.66282291, 0.71578019, 0.7650708 , 0.08911886])"
      ]
     },
     "execution_count": 12,
     "metadata": {},
     "output_type": "execute_result"
    }
   ],
   "source": [
    "arr.flatten(order='F')"
   ]
  },
  {
   "cell_type": "code",
   "execution_count": 13,
   "metadata": {},
   "outputs": [
    {
     "name": "stdout",
     "output_type": "stream",
     "text": [
      "[array([[1, 2, 3],\n",
      "       [1, 2, 3],\n",
      "       [1, 2, 3]]), array([[4, 4, 4],\n",
      "       [5, 5, 5],\n",
      "       [6, 6, 6]])]\n"
     ]
    }
   ],
   "source": [
    "import numpy as np\n",
    "\n",
    "# Define two one-dimensional arrays\n",
    "array1 = np.array([1, 2, 3])\n",
    "array2 = np.array([4, 5, 6])\n",
    "\n",
    "# Calculate the Cartesian product\n",
    "cartesian_product = np.meshgrid(array1, array2)\n",
    "\n",
    "# Print the result\n",
    "print(cartesian_product)"
   ]
  },
  {
   "cell_type": "code",
   "execution_count": 19,
   "metadata": {},
   "outputs": [
    {
     "data": {
      "text/plain": [
       "(array([1, 2, 3, 1, 2, 3, 1, 2, 3]), array([4, 4, 4, 5, 5, 5, 6, 6, 6]))"
      ]
     },
     "execution_count": 19,
     "metadata": {},
     "output_type": "execute_result"
    }
   ],
   "source": [
    "cartesian_product[0].flatten(or), cartesian_product[1].flatten()"
   ]
  },
  {
   "cell_type": "code",
   "execution_count": 18,
   "metadata": {},
   "outputs": [
    {
     "data": {
      "text/plain": [
       "[array([[1, 2, 3],\n",
       "        [1, 2, 3],\n",
       "        [1, 2, 3]]),\n",
       " array([[4, 4, 4],\n",
       "        [5, 5, 5],\n",
       "        [6, 6, 6]])]"
      ]
     },
     "execution_count": 18,
     "metadata": {},
     "output_type": "execute_result"
    }
   ],
   "source": [
    "np.meshgrid(array1, array2)"
   ]
  },
  {
   "cell_type": "code",
   "execution_count": 5,
   "metadata": {},
   "outputs": [
    {
     "name": "stdout",
     "output_type": "stream",
     "text": [
      "The dictionary is empty\n"
     ]
    },
    {
     "data": {
      "text/plain": [
       "False"
      ]
     },
     "execution_count": 5,
     "metadata": {},
     "output_type": "execute_result"
    }
   ],
   "source": [
    "a = {}\n",
    "if not a:\n",
    "    print(\"The dictionary is empty\")\n",
    "else:\n",
    "    print(\"The dictionary is not empty\")\n",
    "\n",
    "bool(a)"
   ]
  },
  {
   "cell_type": "code",
   "execution_count": null,
   "metadata": {},
   "outputs": [],
   "source": [
    "import pickle\n",
    "\n",
    "def read_large_pickle_file(file_path):\n",
    "    with open(file_path, 'rb') as file:\n",
    "        unpickler = pickle.Unpickler(file)\n",
    "        while True:\n",
    "            try:\n",
    "                yield unpickler.load()\n",
    "            except EOFError:\n",
    "                break\n",
    "\n",
    "file_path = 'path/to/your/file.pickle'\n",
    "for data_chunk in read_large_pickle_file(file_path):\n",
    "    # Process each data chunk here\n",
    "    print(data_chunk)"
   ]
  },
  {
   "cell_type": "code",
   "execution_count": 1,
   "metadata": {},
   "outputs": [
    {
     "data": {
      "text/plain": [
       "(3, 3)"
      ]
     },
     "execution_count": 1,
     "metadata": {},
     "output_type": "execute_result"
    }
   ],
   "source": [
    "import pandas as pd\n",
    "\n",
    "# 创建一个DataFrame\n",
    "data = {'Name': ['Alice', 'Bob', 'Charlie'],\n",
    "    'Age': [25, 30, 35],\n",
    "    'Gender': ['F', 'M', 'M']}\n",
    "df = pd.DataFrame(data)\n",
    "\n",
    "df.shape"
   ]
  },
  {
   "cell_type": "code",
   "execution_count": null,
   "metadata": {},
   "outputs": [],
   "source": [
    "df['side'] = df['side'].astype(str)"
   ]
  }
 ],
 "metadata": {
  "kernelspec": {
   "display_name": "ddbEnv",
   "language": "python",
   "name": "python3"
  },
  "language_info": {
   "codemirror_mode": {
    "name": "ipython",
    "version": 3
   },
   "file_extension": ".py",
   "mimetype": "text/x-python",
   "name": "python",
   "nbconvert_exporter": "python",
   "pygments_lexer": "ipython3",
   "version": "3.8.19"
  }
 },
 "nbformat": 4,
 "nbformat_minor": 2
}

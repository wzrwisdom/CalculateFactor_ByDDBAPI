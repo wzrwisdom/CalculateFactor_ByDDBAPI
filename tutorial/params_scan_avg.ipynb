{
 "cells": [
  {
   "cell_type": "code",
   "execution_count": 1,
   "metadata": {},
   "outputs": [],
   "source": [
    "import pandas as pd\n",
    "import os"
   ]
  },
  {
   "cell_type": "code",
   "execution_count": 3,
   "metadata": {},
   "outputs": [],
   "source": [
    "factor_name = 'close_ret'\n",
    "\n",
    "fac_dirpath = f'/home/wangzirui/workspace/data/param_scan/{factor_name}'\n",
    "\n",
    "dfs = []\n",
    "for date in pd.date_range('2023.09.22', '2023.09.30'):\n",
    "    date = date.strftime('%Y.%m.%d')\n",
    "    fac_filepath = f'{fac_dirpath}/{date}.pkl'\n",
    "    if os.path.exists(fac_filepath):\n",
    "        df = pd.read_pickle(fac_filepath)\n",
    "        dfs.append(df)\n"
   ]
  },
  {
   "cell_type": "code",
   "execution_count": 11,
   "metadata": {},
   "outputs": [],
   "source": [
    "res = pd.concat([df['metric'] for df in dfs], axis=1)"
   ]
  },
  {
   "cell_type": "code",
   "execution_count": 12,
   "metadata": {},
   "outputs": [
    {
     "data": {
      "text/plain": [
       "0    0.112884\n",
       "1    0.154514\n",
       "2    0.166428\n",
       "3    0.170831\n",
       "4    0.151840\n",
       "5    0.134178\n",
       "dtype: float64"
      ]
     },
     "execution_count": 12,
     "metadata": {},
     "output_type": "execute_result"
    }
   ],
   "source": [
    "res.T.mean()"
   ]
  },
  {
   "cell_type": "code",
   "execution_count": 13,
   "metadata": {},
   "outputs": [],
   "source": [
    "df_tmp = dfs[0].copy()\n",
    "df_tmp['metric'] = res.T.mean()"
   ]
  },
  {
   "cell_type": "code",
   "execution_count": 14,
   "metadata": {},
   "outputs": [
    {
     "data": {
      "text/html": [
       "<div>\n",
       "<style scoped>\n",
       "    .dataframe tbody tr th:only-of-type {\n",
       "        vertical-align: middle;\n",
       "    }\n",
       "\n",
       "    .dataframe tbody tr th {\n",
       "        vertical-align: top;\n",
       "    }\n",
       "\n",
       "    .dataframe thead th {\n",
       "        text-align: right;\n",
       "    }\n",
       "</style>\n",
       "<table border=\"1\" class=\"dataframe\">\n",
       "  <thead>\n",
       "    <tr style=\"text-align: right;\">\n",
       "      <th></th>\n",
       "      <th>shift1</th>\n",
       "      <th>metric</th>\n",
       "    </tr>\n",
       "  </thead>\n",
       "  <tbody>\n",
       "    <tr>\n",
       "      <th>0</th>\n",
       "      <td>1</td>\n",
       "      <td>0.112884</td>\n",
       "    </tr>\n",
       "    <tr>\n",
       "      <th>1</th>\n",
       "      <td>5</td>\n",
       "      <td>0.154514</td>\n",
       "    </tr>\n",
       "    <tr>\n",
       "      <th>2</th>\n",
       "      <td>10</td>\n",
       "      <td>0.166428</td>\n",
       "    </tr>\n",
       "    <tr>\n",
       "      <th>3</th>\n",
       "      <td>20</td>\n",
       "      <td>0.170831</td>\n",
       "    </tr>\n",
       "    <tr>\n",
       "      <th>4</th>\n",
       "      <td>60</td>\n",
       "      <td>0.151840</td>\n",
       "    </tr>\n",
       "    <tr>\n",
       "      <th>5</th>\n",
       "      <td>100</td>\n",
       "      <td>0.134178</td>\n",
       "    </tr>\n",
       "  </tbody>\n",
       "</table>\n",
       "</div>"
      ],
      "text/plain": [
       "   shift1    metric\n",
       "0       1  0.112884\n",
       "1       5  0.154514\n",
       "2      10  0.166428\n",
       "3      20  0.170831\n",
       "4      60  0.151840\n",
       "5     100  0.134178"
      ]
     },
     "execution_count": 14,
     "metadata": {},
     "output_type": "execute_result"
    }
   ],
   "source": [
    "df_tmp"
   ]
  },
  {
   "cell_type": "code",
   "execution_count": 50,
   "metadata": {},
   "outputs": [],
   "source": [
    "fac_filepath = \"/home/wangzirui/workspace/data/param_optimized/fac_2023.09.22.pkl\"\n",
    "fac_df = pd.read_pickle(fac_filepath)"
   ]
  },
  {
   "cell_type": "code",
   "execution_count": 55,
   "metadata": {},
   "outputs": [],
   "source": [
    "ret_filepath = \"/home/wangzirui/workspace/data/close_return/2023.09.22.pkl\"\n",
    "ret_df = pd.read_pickle(ret_filepath)"
   ]
  },
  {
   "cell_type": "code",
   "execution_count": 56,
   "metadata": {},
   "outputs": [
    {
     "data": {
      "text/html": [
       "<div>\n",
       "<style scoped>\n",
       "    .dataframe tbody tr th:only-of-type {\n",
       "        vertical-align: middle;\n",
       "    }\n",
       "\n",
       "    .dataframe tbody tr th {\n",
       "        vertical-align: top;\n",
       "    }\n",
       "\n",
       "    .dataframe thead th {\n",
       "        text-align: right;\n",
       "    }\n",
       "</style>\n",
       "<table border=\"1\" class=\"dataframe\">\n",
       "  <thead>\n",
       "    <tr style=\"text-align: right;\">\n",
       "      <th></th>\n",
       "      <th>tradetime</th>\n",
       "      <th>securityid</th>\n",
       "      <th>1m</th>\n",
       "      <th>3m</th>\n",
       "      <th>5m</th>\n",
       "    </tr>\n",
       "  </thead>\n",
       "  <tbody>\n",
       "    <tr>\n",
       "      <th>0</th>\n",
       "      <td>2023-09-22 09:30:00</td>\n",
       "      <td>000001.SZ</td>\n",
       "      <td>NaN</td>\n",
       "      <td>NaN</td>\n",
       "      <td>NaN</td>\n",
       "    </tr>\n",
       "  </tbody>\n",
       "</table>\n",
       "</div>"
      ],
      "text/plain": [
       "            tradetime securityid  1m  3m  5m\n",
       "0 2023-09-22 09:30:00  000001.SZ NaN NaN NaN"
      ]
     },
     "execution_count": 56,
     "metadata": {},
     "output_type": "execute_result"
    }
   ],
   "source": [
    "ret_df = ret_df.reset_index()\n",
    "ret_df.head(1)"
   ]
  },
  {
   "cell_type": "code",
   "execution_count": 69,
   "metadata": {},
   "outputs": [],
   "source": [
    "def get_corr(fac_df, ret_df):\n",
    "    fac_arr = fac_df.pivot(index='tradetime', columns='securityid', values='factor')\n",
    "    res = []\n",
    "    common_index = None\n",
    "    common_col = None\n",
    "    fac_com = None\n",
    "    for idx, i in enumerate(['1m', '3m', '5m']):\n",
    "        ret_arr = ret_df.pivot(index='tradetime', columns='securityid', values=i)\n",
    "        if (idx==0):\n",
    "            common_index = fac_arr.index.intersection(ret_arr.index)\n",
    "            common_col = fac_arr.columns.intersection(ret_arr.columns)\n",
    "            fac_com = fac_arr.loc[common_index, common_col]\n",
    "        \n",
    "        ret_com = ret_arr.loc[common_index, common_col]\n",
    "        tmp = fac_com.corrwith(ret_com)\n",
    "        tmp.name = i\n",
    "        res.append(tmp)\n",
    "        \n",
    "    return pd.concat(res, axis=1)"
   ]
  },
  {
   "cell_type": "code",
   "execution_count": 70,
   "metadata": {},
   "outputs": [],
   "source": [
    "factor_and_ret = fac_df.merge(ret_df, how='left', on=['tradetime', 'securityid'], sort=True)\n",
    "corr = get_corr(fac_df, ret_df)"
   ]
  },
  {
   "cell_type": "code",
   "execution_count": 71,
   "metadata": {},
   "outputs": [
    {
     "data": {
      "text/html": [
       "<div>\n",
       "<style scoped>\n",
       "    .dataframe tbody tr th:only-of-type {\n",
       "        vertical-align: middle;\n",
       "    }\n",
       "\n",
       "    .dataframe tbody tr th {\n",
       "        vertical-align: top;\n",
       "    }\n",
       "\n",
       "    .dataframe thead th {\n",
       "        text-align: right;\n",
       "    }\n",
       "</style>\n",
       "<table border=\"1\" class=\"dataframe\">\n",
       "  <thead>\n",
       "    <tr style=\"text-align: right;\">\n",
       "      <th></th>\n",
       "      <th>1m</th>\n",
       "      <th>3m</th>\n",
       "      <th>5m</th>\n",
       "    </tr>\n",
       "    <tr>\n",
       "      <th>securityid</th>\n",
       "      <th></th>\n",
       "      <th></th>\n",
       "      <th></th>\n",
       "    </tr>\n",
       "  </thead>\n",
       "  <tbody>\n",
       "    <tr>\n",
       "      <th>000001.SZ</th>\n",
       "      <td>-0.325920</td>\n",
       "      <td>-0.243234</td>\n",
       "      <td>-0.217098</td>\n",
       "    </tr>\n",
       "    <tr>\n",
       "      <th>000002.SZ</th>\n",
       "      <td>-0.264176</td>\n",
       "      <td>-0.185927</td>\n",
       "      <td>-0.197140</td>\n",
       "    </tr>\n",
       "    <tr>\n",
       "      <th>000004.SZ</th>\n",
       "      <td>-0.126901</td>\n",
       "      <td>-0.096989</td>\n",
       "      <td>-0.057588</td>\n",
       "    </tr>\n",
       "    <tr>\n",
       "      <th>000005.SZ</th>\n",
       "      <td>-0.313582</td>\n",
       "      <td>-0.278675</td>\n",
       "      <td>-0.254014</td>\n",
       "    </tr>\n",
       "    <tr>\n",
       "      <th>000006.SZ</th>\n",
       "      <td>-0.332676</td>\n",
       "      <td>-0.273949</td>\n",
       "      <td>-0.233139</td>\n",
       "    </tr>\n",
       "    <tr>\n",
       "      <th>...</th>\n",
       "      <td>...</td>\n",
       "      <td>...</td>\n",
       "      <td>...</td>\n",
       "    </tr>\n",
       "    <tr>\n",
       "      <th>688799.SH</th>\n",
       "      <td>-0.160479</td>\n",
       "      <td>-0.085675</td>\n",
       "      <td>-0.061032</td>\n",
       "    </tr>\n",
       "    <tr>\n",
       "      <th>688800.SH</th>\n",
       "      <td>-0.125503</td>\n",
       "      <td>-0.078491</td>\n",
       "      <td>-0.072826</td>\n",
       "    </tr>\n",
       "    <tr>\n",
       "      <th>688819.SH</th>\n",
       "      <td>-0.109607</td>\n",
       "      <td>-0.094547</td>\n",
       "      <td>-0.100335</td>\n",
       "    </tr>\n",
       "    <tr>\n",
       "      <th>688981.SH</th>\n",
       "      <td>-0.075474</td>\n",
       "      <td>-0.060876</td>\n",
       "      <td>-0.068539</td>\n",
       "    </tr>\n",
       "    <tr>\n",
       "      <th>689009.SH</th>\n",
       "      <td>-0.006665</td>\n",
       "      <td>0.006749</td>\n",
       "      <td>-0.017171</td>\n",
       "    </tr>\n",
       "  </tbody>\n",
       "</table>\n",
       "<p>5059 rows × 3 columns</p>\n",
       "</div>"
      ],
      "text/plain": [
       "                  1m        3m        5m\n",
       "securityid                              \n",
       "000001.SZ  -0.325920 -0.243234 -0.217098\n",
       "000002.SZ  -0.264176 -0.185927 -0.197140\n",
       "000004.SZ  -0.126901 -0.096989 -0.057588\n",
       "000005.SZ  -0.313582 -0.278675 -0.254014\n",
       "000006.SZ  -0.332676 -0.273949 -0.233139\n",
       "...              ...       ...       ...\n",
       "688799.SH  -0.160479 -0.085675 -0.061032\n",
       "688800.SH  -0.125503 -0.078491 -0.072826\n",
       "688819.SH  -0.109607 -0.094547 -0.100335\n",
       "688981.SH  -0.075474 -0.060876 -0.068539\n",
       "689009.SH  -0.006665  0.006749 -0.017171\n",
       "\n",
       "[5059 rows x 3 columns]"
      ]
     },
     "execution_count": 71,
     "metadata": {},
     "output_type": "execute_result"
    }
   ],
   "source": [
    "corr"
   ]
  },
  {
   "cell_type": "code",
   "execution_count": 63,
   "metadata": {},
   "outputs": [
    {
     "data": {
      "text/plain": [
       "securityid\n",
       "000001.SZ   -0.325920\n",
       "000002.SZ   -0.264176\n",
       "000004.SZ   -0.126901\n",
       "000005.SZ   -0.313582\n",
       "000006.SZ   -0.332676\n",
       "               ...   \n",
       "688799.SH   -0.160479\n",
       "688800.SH   -0.125503\n",
       "688819.SH   -0.109607\n",
       "688981.SH   -0.075474\n",
       "689009.SH   -0.006665\n",
       "Name: 1m, Length: 5059, dtype: float64"
      ]
     },
     "execution_count": 63,
     "metadata": {},
     "output_type": "execute_result"
    }
   ],
   "source": [
    "corr.name='1m'\n",
    "corr"
   ]
  },
  {
   "cell_type": "code",
   "execution_count": 60,
   "metadata": {},
   "outputs": [
    {
     "name": "stderr",
     "output_type": "stream",
     "text": [
      "/home/wangzirui/miniconda3/envs/py38/lib/python3.8/site-packages/scipy/stats/_stats_py.py:4916: ConstantInputWarning: An input array is constant; the correlation coefficient is not defined.\n",
      "  warnings.warn(stats.ConstantInputWarning(warn_msg))\n",
      "/home/wangzirui/miniconda3/envs/py38/lib/python3.8/site-packages/scipy/stats/_stats_py.py:4916: ConstantInputWarning: An input array is constant; the correlation coefficient is not defined.\n",
      "  warnings.warn(stats.ConstantInputWarning(warn_msg))\n",
      "/home/wangzirui/miniconda3/envs/py38/lib/python3.8/site-packages/scipy/stats/_stats_py.py:4916: ConstantInputWarning: An input array is constant; the correlation coefficient is not defined.\n",
      "  warnings.warn(stats.ConstantInputWarning(warn_msg))\n",
      "/home/wangzirui/miniconda3/envs/py38/lib/python3.8/site-packages/scipy/stats/_stats_py.py:4916: ConstantInputWarning: An input array is constant; the correlation coefficient is not defined.\n",
      "  warnings.warn(stats.ConstantInputWarning(warn_msg))\n",
      "/home/wangzirui/miniconda3/envs/py38/lib/python3.8/site-packages/scipy/stats/_stats_py.py:4916: ConstantInputWarning: An input array is constant; the correlation coefficient is not defined.\n",
      "  warnings.warn(stats.ConstantInputWarning(warn_msg))\n",
      "/home/wangzirui/miniconda3/envs/py38/lib/python3.8/site-packages/scipy/stats/_stats_py.py:4916: ConstantInputWarning: An input array is constant; the correlation coefficient is not defined.\n",
      "  warnings.warn(stats.ConstantInputWarning(warn_msg))\n",
      "/home/wangzirui/miniconda3/envs/py38/lib/python3.8/site-packages/scipy/stats/_stats_py.py:4916: ConstantInputWarning: An input array is constant; the correlation coefficient is not defined.\n",
      "  warnings.warn(stats.ConstantInputWarning(warn_msg))\n",
      "/home/wangzirui/miniconda3/envs/py38/lib/python3.8/site-packages/scipy/stats/_stats_py.py:4916: ConstantInputWarning: An input array is constant; the correlation coefficient is not defined.\n",
      "  warnings.warn(stats.ConstantInputWarning(warn_msg))\n",
      "/home/wangzirui/miniconda3/envs/py38/lib/python3.8/site-packages/scipy/stats/_stats_py.py:4916: ConstantInputWarning: An input array is constant; the correlation coefficient is not defined.\n",
      "  warnings.warn(stats.ConstantInputWarning(warn_msg))\n",
      "/home/wangzirui/miniconda3/envs/py38/lib/python3.8/site-packages/scipy/stats/_stats_py.py:4916: ConstantInputWarning: An input array is constant; the correlation coefficient is not defined.\n",
      "  warnings.warn(stats.ConstantInputWarning(warn_msg))\n",
      "/home/wangzirui/miniconda3/envs/py38/lib/python3.8/site-packages/scipy/stats/_stats_py.py:4916: ConstantInputWarning: An input array is constant; the correlation coefficient is not defined.\n",
      "  warnings.warn(stats.ConstantInputWarning(warn_msg))\n",
      "/home/wangzirui/miniconda3/envs/py38/lib/python3.8/site-packages/scipy/stats/_stats_py.py:4916: ConstantInputWarning: An input array is constant; the correlation coefficient is not defined.\n",
      "  warnings.warn(stats.ConstantInputWarning(warn_msg))\n",
      "/home/wangzirui/miniconda3/envs/py38/lib/python3.8/site-packages/scipy/stats/_stats_py.py:4916: ConstantInputWarning: An input array is constant; the correlation coefficient is not defined.\n",
      "  warnings.warn(stats.ConstantInputWarning(warn_msg))\n",
      "/home/wangzirui/miniconda3/envs/py38/lib/python3.8/site-packages/scipy/stats/_stats_py.py:4916: ConstantInputWarning: An input array is constant; the correlation coefficient is not defined.\n",
      "  warnings.warn(stats.ConstantInputWarning(warn_msg))\n",
      "/home/wangzirui/miniconda3/envs/py38/lib/python3.8/site-packages/scipy/stats/_stats_py.py:4916: ConstantInputWarning: An input array is constant; the correlation coefficient is not defined.\n",
      "  warnings.warn(stats.ConstantInputWarning(warn_msg))\n",
      "/home/wangzirui/miniconda3/envs/py38/lib/python3.8/site-packages/scipy/stats/_stats_py.py:4916: ConstantInputWarning: An input array is constant; the correlation coefficient is not defined.\n",
      "  warnings.warn(stats.ConstantInputWarning(warn_msg))\n"
     ]
    }
   ],
   "source": [
    "import sys\n",
    "sys.path.insert(0, '../')\n",
    "from factor_cal.factor_eval.basic_evaluate import factor_timeSeries_information_coefficient\n",
    "fac_df.rename(columns={'close_ret': 'factor'}, inplace=True)\n",
    "factor_and_ret = fac_df.merge(ret_df, how='left', on=['tradetime', 'securityid'], sort=True)\n",
    "factor_and_ret = factor_and_ret.dropna()\n",
    "    \n",
    "ic_data = factor_timeSeries_information_coefficient(factor_and_ret)"
   ]
  },
  {
   "cell_type": "code",
   "execution_count": 61,
   "metadata": {},
   "outputs": [
    {
     "data": {
      "text/html": [
       "<div>\n",
       "<style scoped>\n",
       "    .dataframe tbody tr th:only-of-type {\n",
       "        vertical-align: middle;\n",
       "    }\n",
       "\n",
       "    .dataframe tbody tr th {\n",
       "        vertical-align: top;\n",
       "    }\n",
       "\n",
       "    .dataframe thead th {\n",
       "        text-align: right;\n",
       "    }\n",
       "</style>\n",
       "<table border=\"1\" class=\"dataframe\">\n",
       "  <thead>\n",
       "    <tr style=\"text-align: right;\">\n",
       "      <th></th>\n",
       "      <th>1m</th>\n",
       "      <th>3m</th>\n",
       "      <th>5m</th>\n",
       "    </tr>\n",
       "    <tr>\n",
       "      <th>securityid</th>\n",
       "      <th></th>\n",
       "      <th></th>\n",
       "      <th></th>\n",
       "    </tr>\n",
       "  </thead>\n",
       "  <tbody>\n",
       "    <tr>\n",
       "      <th>000001.SZ</th>\n",
       "      <td>-0.072110</td>\n",
       "      <td>-0.066854</td>\n",
       "      <td>0.005320</td>\n",
       "    </tr>\n",
       "    <tr>\n",
       "      <th>000002.SZ</th>\n",
       "      <td>-0.144325</td>\n",
       "      <td>-0.090767</td>\n",
       "      <td>-0.092485</td>\n",
       "    </tr>\n",
       "    <tr>\n",
       "      <th>000004.SZ</th>\n",
       "      <td>0.003477</td>\n",
       "      <td>-0.010861</td>\n",
       "      <td>-0.019298</td>\n",
       "    </tr>\n",
       "    <tr>\n",
       "      <th>000005.SZ</th>\n",
       "      <td>0.341841</td>\n",
       "      <td>0.103007</td>\n",
       "      <td>-0.778537</td>\n",
       "    </tr>\n",
       "    <tr>\n",
       "      <th>000006.SZ</th>\n",
       "      <td>-0.270585</td>\n",
       "      <td>-0.176581</td>\n",
       "      <td>-0.177935</td>\n",
       "    </tr>\n",
       "    <tr>\n",
       "      <th>...</th>\n",
       "      <td>...</td>\n",
       "      <td>...</td>\n",
       "      <td>...</td>\n",
       "    </tr>\n",
       "    <tr>\n",
       "      <th>688799.SH</th>\n",
       "      <td>-0.129733</td>\n",
       "      <td>-0.176890</td>\n",
       "      <td>-0.205560</td>\n",
       "    </tr>\n",
       "    <tr>\n",
       "      <th>688800.SH</th>\n",
       "      <td>-0.066269</td>\n",
       "      <td>-0.113079</td>\n",
       "      <td>-0.064010</td>\n",
       "    </tr>\n",
       "    <tr>\n",
       "      <th>688819.SH</th>\n",
       "      <td>-0.092099</td>\n",
       "      <td>-0.040971</td>\n",
       "      <td>-0.024835</td>\n",
       "    </tr>\n",
       "    <tr>\n",
       "      <th>688981.SH</th>\n",
       "      <td>-0.013640</td>\n",
       "      <td>-0.008296</td>\n",
       "      <td>-0.033325</td>\n",
       "    </tr>\n",
       "    <tr>\n",
       "      <th>689009.SH</th>\n",
       "      <td>-0.033013</td>\n",
       "      <td>-0.028928</td>\n",
       "      <td>-0.006072</td>\n",
       "    </tr>\n",
       "  </tbody>\n",
       "</table>\n",
       "<p>5050 rows × 3 columns</p>\n",
       "</div>"
      ],
      "text/plain": [
       "                  1m        3m        5m\n",
       "securityid                              \n",
       "000001.SZ  -0.072110 -0.066854  0.005320\n",
       "000002.SZ  -0.144325 -0.090767 -0.092485\n",
       "000004.SZ   0.003477 -0.010861 -0.019298\n",
       "000005.SZ   0.341841  0.103007 -0.778537\n",
       "000006.SZ  -0.270585 -0.176581 -0.177935\n",
       "...              ...       ...       ...\n",
       "688799.SH  -0.129733 -0.176890 -0.205560\n",
       "688800.SH  -0.066269 -0.113079 -0.064010\n",
       "688819.SH  -0.092099 -0.040971 -0.024835\n",
       "688981.SH  -0.013640 -0.008296 -0.033325\n",
       "689009.SH  -0.033013 -0.028928 -0.006072\n",
       "\n",
       "[5050 rows x 3 columns]"
      ]
     },
     "execution_count": 61,
     "metadata": {},
     "output_type": "execute_result"
    }
   ],
   "source": [
    "ic_data"
   ]
  },
  {
   "cell_type": "code",
   "execution_count": null,
   "metadata": {},
   "outputs": [],
   "source": [
    "import numpy as np\n",
    "def get_corr2(factor, ret):\n",
    "    factor.set_index(['tradetime', 'securityid'], inplace=True)\n",
    "    # factor.rename(columns={'value': 'factor'}, inplace=True)\n",
    "    # factor.replace(np.inf, np.nan, inplace=True)\n",
    "    \n",
    "    factor_and_ret = factor.merge(ret, how='left', on=['tradetime', 'securityid'], sort=True)\n",
    "    factor_and_ret = factor_and_ret.dropna()"
   ]
  },
  {
   "cell_type": "code",
   "execution_count": 46,
   "metadata": {},
   "outputs": [],
   "source": [
    "fac_df.set_index(['tradetime', 'securityid'], inplace=True)"
   ]
  },
  {
   "cell_type": "code",
   "execution_count": null,
   "metadata": {},
   "outputs": [],
   "source": [
    "fac_df.drop"
   ]
  },
  {
   "cell_type": "code",
   "execution_count": 48,
   "metadata": {},
   "outputs": [],
   "source": [
    "factor_and_ret = fac_df.merge(ret_df, how='left', on=['tradetime', 'securityid'], sort=True)"
   ]
  },
  {
   "cell_type": "code",
   "execution_count": 38,
   "metadata": {},
   "outputs": [],
   "source": [
    "arr1 = fac_com.to_numpy()\n",
    "arr2 = ret_com.to_numpy()"
   ]
  },
  {
   "cell_type": "code",
   "execution_count": null,
   "metadata": {},
   "outputs": [],
   "source": []
  }
 ],
 "metadata": {
  "kernelspec": {
   "display_name": "py38",
   "language": "python",
   "name": "python3"
  },
  "language_info": {
   "codemirror_mode": {
    "name": "ipython",
    "version": 3
   },
   "file_extension": ".py",
   "mimetype": "text/x-python",
   "name": "python",
   "nbconvert_exporter": "python",
   "pygments_lexer": "ipython3",
   "version": "3.8.19"
  }
 },
 "nbformat": 4,
 "nbformat_minor": 2
}
